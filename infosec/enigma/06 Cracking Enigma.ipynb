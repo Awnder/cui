{
 "cells": [
  {
   "cell_type": "markdown",
   "metadata": {},
   "source": [
    "# Cracking the Enigma Machine\n",
    "\n",
    "The Enigma machine is going to be difficult for us to crack. If we devoted a couple of weeks to the task and relied on some of the breakthroughs that Marian Rejewski and Alan Turing discovered, we could do it. But that would take too much time away from other interesting subjects. And so, we are going to focus on just a portion of the cryptanalysis efforts. If you would like to continue cracking on your own, I suggest working on the Cipher Challenge 8 in *The Code Book*.\n",
    "\n",
    "### Enigma Keys\n",
    "\n",
    "Do you remember how the Nazis deployed and used keys for the Enigma Machine? There was a monthly codebook that was sent to all the Enigma operators. It was a TOP SECRET manual that contained a key for each day of the month. Every operator used the same *daily key*. They might look like this:\n",
    "\n",
    "```\n",
    "Plugboard settings:     A/L - P/R - T/D - B/W - F/K - O/Y\n",
    "Scrambler arrangements: 2 3 1\n",
    "Scrambler orientations: Q-C-W\n",
    "```\n",
    "\n",
    "But it would have been poor cryptologic practice for the entire German military to use the same key for every message that day. It's easier to crack a cipher if you have a lot of traffic with the same key. So the standard practice was for every Enigma operator to create a random *message key* like `CUI` (scrambler orientation only) and then to use the *daily* key to encrypt the *message* key. But to avoid errors, they typed the 3-letter message key `CUICUI` twice, which produced 6 letters of ciphertext `PCLEIB`. These 6 letters were the beginning of the message. Then the operator reset the scrambler orientation to the message key `CUI` and typed out their message.\n",
    "\n",
    "Now that the session key and the message were encrypted, the Enigma operator could send the entire message securely over the airwaves. The 6 letters of the encrypted message key would come first. The message--encrypted with the message key--would come second."
   ]
  },
  {
   "cell_type": "code",
   "execution_count": null,
   "metadata": {},
   "outputs": [],
   "source": [
    "import enigma\n",
    "\n",
    "daily_plugboard = None\n",
    "daily_reflector = 'C'\n",
    "daily_scrambler = [ 'II', 'III', 'I' ]\n",
    "daily_orientation = [ 'Q', 'C', 'W' ]\n",
    "\n",
    "plaintext = ( \"Concordia University Irvine, a comprehensive Lutheran Christian \" +\n",
    "              \"university guided by Christ's Great Commission, develops wise, \" +\n",
    "              \"honorable, and cultivated citizens to serve society and the church.\" )\n",
    "\n",
    "mine = enigma.m3(daily_reflector, \n",
    "                 daily_scrambler[0], daily_scrambler[1], daily_scrambler[2], \n",
    "                 daily_orientation[0], daily_orientation[1], daily_orientation[2])\n",
    "\n",
    "my_message_key = 'CUI' * 2\n",
    "my_first_six = ''\n",
    "for ch in my_message_key:\n",
    "    my_first_six += mine.keypress(ch)\n",
    "\n",
    "print(my_first_six)"
   ]
  },
  {
   "cell_type": "code",
   "execution_count": null,
   "metadata": {},
   "outputs": [],
   "source": [
    "mine.reset(daily_reflector,\n",
    "           daily_scrambler[0], daily_scrambler[1], daily_scrambler[2], \n",
    "           my_message_key[0], my_message_key[1], my_message_key[2])\n",
    "\n",
    "ciphertext = ''\n",
    "for ch in plaintext:\n",
    "    ciphertext += mine.keypress(ch)\n",
    "\n",
    "message = my_first_six + \" \" + ciphertext\n",
    "print(message)"
   ]
  },
  {
   "cell_type": "code",
   "execution_count": null,
   "metadata": {},
   "outputs": [],
   "source": []
  },
  {
   "cell_type": "markdown",
   "metadata": {},
   "source": [
    "### Decrypt Ciphertext\n",
    "\n",
    "At this point, the sender would transfer the ciphertext to the receiver by radio. The receiver knows the same daily key because it is listed in the monthly codebook. So the receiver uses this daily key to decrypt the first 6 letters of the ciphertext, expecting the first three plaintext to repeat as the message/session key. If the first six match, the receiver resets the Enigma to put the session key on top and then uses this to decrypt the rest of the message."
   ]
  },
  {
   "cell_type": "code",
   "execution_count": null,
   "metadata": {},
   "outputs": [],
   "source": [
    "yours = enigma.m3(daily_reflector, \n",
    "                  daily_scrambler[0], daily_scrambler[1], daily_scrambler[2], \n",
    "                  daily_orientation[0], daily_orientation[1], daily_orientation[2])\n",
    "\n",
    "your_message_key = message[:6]\n",
    "your_first_six = ''\n",
    "for ch in your_message_key:\n",
    "    your_first_six += yours.keypress(ch)\n",
    "\n",
    "if (your_first_six[0] == your_first_six[3] and \n",
    "    your_first_six[1] == your_first_six[4] and \n",
    "    your_first_six[2] == your_first_six[5]):\n",
    "    print(f\"Good, received message key {your_first_six}\")\n",
    "else:\n",
    "    print(f\"Bad, invalid message key {your_first_six}\")"
   ]
  },
  {
   "cell_type": "code",
   "execution_count": null,
   "metadata": {},
   "outputs": [],
   "source": [
    "yours.reset(daily_reflector, daily_scrambler[0], daily_scrambler[1], daily_scrambler[2], \n",
    "            your_first_six[0], your_first_six[1], your_first_six[2])\n",
    "\n",
    "real_message = message[6:].strip()\n",
    "plaintext = ''\n",
    "for ch in real_message:\n",
    "    plaintext += yours.keypress(ch)\n",
    "\n",
    "print(plaintext)"
   ]
  },
  {
   "cell_type": "code",
   "execution_count": null,
   "metadata": {},
   "outputs": [],
   "source": []
  },
  {
   "cell_type": "markdown",
   "metadata": {},
   "source": [
    "### Marian Rejewski\n",
    "\n",
    "Marian Rejewski was the most determined cryptographer leading up to WWII (and possibly the best, too). He discovered a weakness in the Enigma Machine that was caused by the German procedure of repeating the 3-digit message key at the beginning of each message. The message keys were encrypted using the country-wide daily key from the German codebooks.\n",
    "\n",
    "If the message key was \"GBR\", then the first six letters of the plaintext would be \"GBRGBR\". The first and fourth plaintext letters would always be the same, but they would encode to different ciphertext. The same pattern held true for the second and fifth plaintext letters as well as the third and sixth. These six letters would be encrypted with the daily key form the German codebook.\n",
    "\n",
    "```\n",
    "Daily Key = AAA\n",
    "Message Key #1 = GBR => GBRGBR => YUFBNH\n",
    "```\n",
    "\n",
    "Each day, Rejewski reviewed a lot of intercepted traffic. He often had so much traffic that, by chance, he saw a good number of all the possible message keys. Rejewski realized that the same daily starting key was being used to encrypt many different \"random\" message keys. He started tabulating all of the results, knowing that there was something special about the 1st/4th, 2nd/5th, and 3rd/6th characters."
   ]
  },
  {
   "cell_type": "code",
   "execution_count": null,
   "metadata": {},
   "outputs": [],
   "source": [
    "e = enigma.m3()\n",
    "k1 = e.keypress('B')\n",
    "k2 = e.keypress('E')\n",
    "k3 = e.keypress('R')\n",
    "k4 = e.keypress('B')\n",
    "k5 = e.keypress('E')\n",
    "k6 = e.keypress('R')\n",
    "print(\"{} {} {} {} {} {}\".format(k1, k2, k3, k4, k5, k6))"
   ]
  },
  {
   "cell_type": "code",
   "execution_count": null,
   "metadata": {},
   "outputs": [],
   "source": [
    "e.reset()\n",
    "k1 = e.keypress('G')\n",
    "k2 = e.keypress('E')\n",
    "k3 = e.keypress('R')\n",
    "k4 = e.keypress('G')\n",
    "k5 = e.keypress('E')\n",
    "k6 = e.keypress('R')\n",
    "print(\"{} {} {} {} {} {}\".format(k1, k2, k3, k4, k5, k6))"
   ]
  },
  {
   "cell_type": "markdown",
   "metadata": {},
   "source": [
    "Let's say that one day an Enigma Operator sends out four messages. Here are his four message keys, showing how they have all been encrypted with the same daily key.\n",
    "\n",
    "```\n",
    "Daily Key = AAA         repeat    encrypt\n",
    "Message Key #1 = BER => BERBER => WFFGPH\n",
    "Message Key #2 = GER => GERGER => YFFBPH\n",
    "Message Key #3 = BBB => ABCABC => FUVMNG\n",
    "Message Key #4 = EEE => QJCQJC => UKVRXG\n",
    "...\n",
    "```"
   ]
  },
  {
   "cell_type": "markdown",
   "metadata": {},
   "source": [
    "### Individual Exercise\n",
    "\n",
    "We need some \"random\" 3-letter message keys. First, create a list that contains a few random keys. Then write some code to generate the first 6 characters of ciphertext\n",
    "\n",
    "```\n",
    "# make your own \"random\"\n",
    "random_keys = [\"ABC\", \"XYZ\", \"CSC\"]\n",
    "```"
   ]
  },
  {
   "cell_type": "code",
   "execution_count": 9,
   "metadata": {},
   "outputs": [],
   "source": [
    "e.reset(\"B\", \"II\", \"III\", \"I\", \"J\", \"R\", \"T\")\n",
    "\n",
    "# add code to generate keys\n",
    "    "
   ]
  },
  {
   "cell_type": "markdown",
   "metadata": {},
   "source": [
    "### Creating His Own Cribs\n",
    "\n",
    "Eventually, Rejewski took an Enigma Machine and manually worked through all of the different combinations of daily key and message keys. These special plaintext/ciphertext combinations are sometimes called cribs. This work took him over a year! With a computer, we can do it much faster."
   ]
  },
  {
   "cell_type": "code",
   "execution_count": null,
   "metadata": {},
   "outputs": [],
   "source": [
    "import string\n",
    "\n",
    "def generate_mock_cribs(ref, L_rot, M_rot, R_rot, L_pos, M_pos, R_pos):\n",
    "    \n",
    "    cribs = []\n",
    "    e = enigma.m3()\n",
    "    \n",
    "    for x in string.ascii_uppercase:\n",
    "        e.reset(ref, L_rot, M_rot, R_rot, L_pos, M_pos, R_pos)\n",
    "        crib = (e.keypress(x) + e.keypress(x) + e.keypress(x) + \n",
    "                e.keypress(x) + e.keypress(x) + e.keypress(x))\n",
    "        cribs.append((x*3, crib))\n",
    "        \n",
    "    return cribs\n",
    "\n",
    "cribs = generate_mock_cribs(\"B\", \"II\", \"III\", \"I\", \"J\", \"R\", \"T\")\n",
    "cribs"
   ]
  },
  {
   "cell_type": "markdown",
   "metadata": {},
   "source": [
    "### Finding Unique Patterns\n",
    "\n",
    "Remember that the 1st and 4th letters were the same plaintext. So were the 2nd and 5th, along with the 3rd and 6th. One of Rejewski's next steps was to tabulate all of these relationships.\n",
    "\n",
    "You'll see that we've got some code to show the full relationship for the 1st and 4th letters."
   ]
  },
  {
   "cell_type": "code",
   "execution_count": null,
   "metadata": {},
   "outputs": [],
   "source": [
    "def link_crib_pairs(cribs, pair_idx_a, pair_idx_b):\n",
    "    pairs = {}\n",
    "    for session_key, crib in cribs:\n",
    "        pairs[crib[pair_idx_a]] = crib[pair_idx_b]\n",
    "    return pairs\n",
    "\n",
    "relationship_table1 = link_crib_pairs(cribs, 0, 3)\n",
    "relationship_table2 = link_crib_pairs(cribs, 1, 4)\n",
    "relationship_table3 = link_crib_pairs(cribs, 2, 5)\n",
    "\n",
    "relationship_table3"
   ]
  },
  {
   "cell_type": "code",
   "execution_count": null,
   "metadata": {},
   "outputs": [],
   "source": []
  },
  {
   "cell_type": "markdown",
   "metadata": {},
   "source": [
    "## Pop Quiz\n",
    "\n",
    "1. Why are the 26 cribs `'AAA'`, `'BBB'`, ... `'ZZZ'` sufficient to handle all possible session keys when they do not include all the unique session key combinations like 'ABC', 'CUI', 'CSC', etc?"
   ]
  },
  {
   "cell_type": "markdown",
   "metadata": {},
   "source": [
    "2. Using the previous list of 26 cribs, what would be the ciphertext for session key `'BAL'`?\n",
    "* Reflector: **B** \n",
    "* Left Rotor: **II (2) / J**\n",
    "* Middle Rotor: **III (3) / R**\n",
    "* Right Rotor:  **I (1) / T**\n",
    "```\n",
    "AAA WPLBNQ    FFF HVMNBR    KKK ODTOQO    PPP SARRDL    UUU ZQOTIN\n",
    "BBB RTYAFM    GGG EJISJC    LLL YIACVP    QQQ NUDHKA    VVV IFZZLI\n",
    "CCC JRNLYG    HHH FSSQXS    MMM TOFIOB    RRR BCPPWF    WWW AEXERX\n",
    "DDD XKQYPY    III VLGMUV    NNN QXCFAU    SSS PHHGEH    XXX DNWJHW\n",
    "EEE GWJWSZ    JJJ CGEXGT    OOO KMUKMK    TTT MBKUZJ    YYY LZBDCD\n",
    "                                                        ZZZ UYVVTE\n",
    "```\n",
    "\n",
    "\n",
    "             "
   ]
  },
  {
   "cell_type": "markdown",
   "metadata": {},
   "source": [
    "### Finding Cycles\n",
    "\n",
    "Another breakthrough Rejewski made was finding that you could walk these chains from one letter to the next. Eventually the chains cycled back on themselves, creating a loop. For example:\n",
    "\n",
    "```\n",
    "W -> P -> G -> W        (3 links in this cycle)\n",
    "R -> A -> E -> S -> R   (4 links in this cycle)\n",
    "```\n",
    "\n",
    "These chains were interesting and he started writing down their lengths.\n",
    "\n",
    "### Class Exercise\n",
    "\n",
    "Record the chain cycle lengths for all three relationship tables."
   ]
  },
  {
   "cell_type": "code",
   "execution_count": null,
   "metadata": {},
   "outputs": [],
   "source": [
    "# 'V' is an arbitrary choice\n",
    "start = 'V'\n",
    "chain = start\n",
    "curr = relationship_table1[start]     # curr is whatever V maps to (in this case 'M')\n",
    "\n",
    "while curr != start:                 # keep looping until we complete a cycle\n",
    "    chain += curr                    # add the current letter to the chain\n",
    "    curr = relationship_table1[curr]  # step to the next letter in the chain\n",
    "\n",
    "print(chain, len(chain))"
   ]
  },
  {
   "cell_type": "code",
   "execution_count": 13,
   "metadata": {},
   "outputs": [],
   "source": [
    "def walk_chain(scratch_table, start):\n",
    "    curr = scratch_table[start]\n",
    "    prev = curr\n",
    "    chain = curr\n",
    "\n",
    "    count = 1\n",
    "    while curr != start:            # keep looping until we complete a cycle\n",
    "        count += 1                  # count the current letter\n",
    "        curr = scratch_table[prev]  # next letter in the chain\n",
    "        del scratch_table[prev]\n",
    "        chain += curr\n",
    "        prev = curr\n",
    "    return chain, count"
   ]
  },
  {
   "cell_type": "code",
   "execution_count": null,
   "metadata": {},
   "outputs": [],
   "source": [
    "relationship_table = link_crib_pairs(cribs, 0, 3)\n",
    "print(walk_chain(relationship_table, 'V'))\n",
    "print(walk_chain(relationship_table, 'W'))\n",
    "print(walk_chain(relationship_table, 'R'))\n",
    "print(walk_chain(relationship_table, 'J'))"
   ]
  },
  {
   "cell_type": "code",
   "execution_count": null,
   "metadata": {},
   "outputs": [],
   "source": [
    "def calculate_chain_lengths(relationship_table):\n",
    "    # Our algorithm deletes items from the relationship table as it goes. We\n",
    "    # create a copy of the table so as not to change the original data\n",
    "    scratch = relationship_table.copy()\n",
    "    \n",
    "    # Create a CSV string containing the length of all chains\n",
    "    chains = \"\"\n",
    "    while len(scratch) > 0:                       # loop through all chains\n",
    "        start  = list(sorted(scratch.keys()))[0]  # start of the next chain\n",
    "        crib,length = walk_chain(scratch, start)  # get the length\n",
    "        chains += \"{},\".format(length)            # add length to the list\n",
    "        del scratch[start]\n",
    "    return chains[:-1]                            # omit the trailing comma\n",
    "\n",
    "relationship_table = link_crib_pairs(cribs, 0, 3)\n",
    "calculate_chain_lengths(relationship_table)"
   ]
  },
  {
   "cell_type": "markdown",
   "metadata": {},
   "source": [
    "### Early Rainbow Tables\n",
    "\n",
    "Rejewski found that these cycle counts were somewhat unique for each of the various daily keys. In other words, each configuration of the Enigma Machine produced a different combination of cycles. He realized that the cycles were a signature that allowed him to quickly crack the daily key, and from there he could work out the message key and plugboard settings (in testing, it seems there were sometimes multiple configurations that produced the same signature).\n",
    "\n",
    "So how did his system work? Rejewski knew that if he calculated the signature for every possible daily setting, and stored the results in one big catalog, that he would have a lookup table to quickly crack the full day's worth of Enigma traffic. This would be a giant catalog with more than 100,000 entries! Rejewski and his colleagues designed an electro-mechanical device to simplify the process, but it still took them an entire year to produce the catalog."
   ]
  },
  {
   "cell_type": "code",
   "execution_count": null,
   "metadata": {},
   "outputs": [],
   "source": [
    "crib_pairs_0_3 = link_crib_pairs(cribs, 0, 3)\n",
    "chains_0_3 = calculate_chain_lengths(crib_pairs_0_3)\n",
    "chains_0_3"
   ]
  },
  {
   "cell_type": "code",
   "execution_count": null,
   "metadata": {},
   "outputs": [],
   "source": [
    "crib_pairs_1_4 = link_crib_pairs(cribs, 1, 4)\n",
    "chains_1_4 = calculate_chain_lengths(crib_pairs_1_4)\n",
    "chains_1_4"
   ]
  },
  {
   "cell_type": "code",
   "execution_count": null,
   "metadata": {},
   "outputs": [],
   "source": [
    "crib_pairs_2_5 = link_crib_pairs(cribs, 2, 5)\n",
    "chains_2_5 = calculate_chain_lengths(crib_pairs_2_5)\n",
    "chains_2_5"
   ]
  },
  {
   "cell_type": "code",
   "execution_count": null,
   "metadata": {},
   "outputs": [],
   "source": [
    "print(\"{}|{}|{}\".format(chains_0_3, chains_1_4, chains_2_5))"
   ]
  },
  {
   "cell_type": "code",
   "execution_count": null,
   "metadata": {},
   "outputs": [],
   "source": [
    "def calculate_chain_index(ref, L_rot, M_rot, R_rot, L_pos, M_pos, R_pos):\n",
    "\n",
    "    # Get cribs for all of the possible message keys\n",
    "    cribs = generate_mock_cribs(ref, L_rot, M_rot, R_rot, L_pos, M_pos, R_pos)\n",
    "\n",
    "    # Link up the matching 1st & 4th, 2nd & 5th, and 3rd & 6th key positions\n",
    "    crib_pairs_0_3 = link_crib_pairs(cribs, 0, 3)\n",
    "    crib_pairs_1_4 = link_crib_pairs(cribs, 1, 4)\n",
    "    crib_pairs_2_5 = link_crib_pairs(cribs, 2, 5)\n",
    "    \n",
    "    # Now calculate the lengths of all chains within the key position chains\n",
    "    chains_0_3 = calculate_chain_lengths(crib_pairs_0_3)\n",
    "    chains_1_4 = calculate_chain_lengths(crib_pairs_1_4)\n",
    "    chains_2_5 = calculate_chain_lengths(crib_pairs_2_5)\n",
    "    \n",
    "    # Create a mutable string that will suffice as a dict key\n",
    "    chain_index = \"{}|{}|{}\".format(chains_0_3, chains_1_4, chains_2_5)\n",
    "    return chain_index\n",
    "\n",
    "calculate_chain_index(\"B\", \"II\", \"III\", \"I\", \"J\", \"R\", \"T\")"
   ]
  },
  {
   "cell_type": "markdown",
   "metadata": {},
   "source": [
    "### Putting It All Together\n",
    "\n",
    "At this point, we have written code that will simulate Rejewski's work on the Engima Machine by calculating the chain-link signature for one daily key. We call the function like this:\n",
    "\n",
    "```\n",
    "signature = calculate_chain_index(\"B\", \"II\", \"III\", \"I\", \"J\", \"R\", \"T\")\n",
    "```\n",
    "\n",
    "Your job will be to enumerate the chain-link signature for ***every*** possible key that can be chosen for reflector `B` and rotors `I`, `II`, and `III`. I suggest that you use the `permutations` and `product` functions from the `itertools` module. Look at the examples below and then play around with the functions a little bit. Figure out how to generate all the possible rotor combinations and all of the possible rotor settings."
   ]
  },
  {
   "cell_type": "code",
   "execution_count": null,
   "metadata": {},
   "outputs": [],
   "source": [
    "from itertools import product\n",
    "\n",
    "seed = \"ABC\"\n",
    "prod = product(seed, repeat=2)\n",
    "list(prod)"
   ]
  },
  {
   "cell_type": "code",
   "execution_count": null,
   "metadata": {},
   "outputs": [],
   "source": [
    "prod = product(seed, repeat=3)\n",
    "list(prod)"
   ]
  },
  {
   "cell_type": "code",
   "execution_count": null,
   "metadata": {},
   "outputs": [],
   "source": []
  },
  {
   "cell_type": "code",
   "execution_count": null,
   "metadata": {},
   "outputs": [],
   "source": [
    "from itertools import permutations\n",
    "\n",
    "seed = [ \"I\", \"II\", \"III\" ]\n",
    "perm = permutations(seed, 2)\n",
    "list(perm)"
   ]
  },
  {
   "cell_type": "code",
   "execution_count": null,
   "metadata": {},
   "outputs": [],
   "source": [
    "perm = permutations(seed, 3)\n",
    "list(perm)"
   ]
  },
  {
   "cell_type": "code",
   "execution_count": null,
   "metadata": {},
   "outputs": [],
   "source": []
  },
  {
   "cell_type": "markdown",
   "metadata": {},
   "source": [
    "### Exercise\n",
    "\n",
    "Now that you've figured out how to generate all the possible rotor combinations and all the possible letter combinations, create a Rejewski Rainbow Table. There's some skeleton code below that will help you get started."
   ]
  },
  {
   "cell_type": "code",
   "execution_count": 27,
   "metadata": {
    "scrolled": true
   },
   "outputs": [],
   "source": [
    "from itertools import permutations\n",
    "from itertools import product\n",
    "import string\n",
    "\n",
    "alphabet = string.ascii_uppercase\n",
    "\n",
    "rejewski_table = {}\n",
    "for rot in              :\n",
    "    for top in                  :\n",
    "        signature   = calculate_chain_index(\"B\", rot[0], rot[1], rot[2], top[0], top[1], top[2])\n",
    "        message_key = \"{}:{},{}:{},{}:{}\".format(rot[0], top[0], rot[1], top[1], rot[2], top[2])\n",
    "        if signature not in rejewski_table:\n",
    "            rejewski_table[signature] = message_key\n",
    "        else:\n",
    "            rejewski_table[signature] += \" OR \" + message_key"
   ]
  },
  {
   "cell_type": "code",
   "execution_count": null,
   "metadata": {},
   "outputs": [],
   "source": [
    "rejewski_table['12,12,1,1|13,13|3,3,5,3,3,1,1,5,1,1']"
   ]
  },
  {
   "cell_type": "code",
   "execution_count": null,
   "metadata": {},
   "outputs": [],
   "source": []
  },
  {
   "cell_type": "markdown",
   "metadata": {},
   "source": [
    "## Homework\n",
    "\n",
    "Three important messages have been intercepted. You suspect that they have been encrypted with an Enigma Machine. Decrypt the messages using all of your cryptanalysis brilliance.\n",
    "\n",
    "```\n",
    "intercept1 = 'AAJPMC GBP CW SHQ LBT MOHH UI WYYF BZNDU QBKS KGX CF ' +\\\n",
    "             'GEQLJ KQUJ GSM OXS NMFDTPTW. PAY SNR NKWERS IIIZE LC WPI ' +\\\n",
    "             'FPTYPI XC SKX. XHQ HFD OVK FLL NWUHI HE S XWQ FS IY OHGJ ' +\\\n",
    "             'VUAOB BHSF XAC TUULNMK GOKSRMS FSD OMMCQZCLYDWF IJ XPN ' +\\\n",
    "             'CCL, EM TNP XONXNZCP YW NLG FMERQXMF SW AYEYW BMM WBC ' +\\\n",
    "             'VOXNZNMF MWIT JJI. GC WOS BKPQ MWHYB LHAU CSX ZF WPQRXTV ' +\\\n",
    "             'RGP GYVGJ VQ CNXXG KSCZVZ. SLM JLFM UF LCCP EXO NSXHMVKP ' +\\\n",
    "             'NKQ TZCFAUKE, DW NKWQWG OZW LK IYS. TNC IHHWUMAD NSF ' +\\\n",
    "             'YTULQT; TT OZY EUAE DYCKK VY MDR’I YHLURZEP VUPQYLKS. WNK ' +\\\n",
    "             'OFG, EB EVM XEWRJ, VOWNPV OYXFC DK JBJUO AD FBM YXMRV. TN ' +\\\n",
    "             'QYH AYNH RCZTPTQ UNBFWP EPJMC ZUXJ XQ CBCDO GX INTP ZUT ' +\\\n",
    "             'EPGKGZN WHF RRD HFJN. MXU WKF NOFWZCORE FPVPA YL GLW ' +\\\n",
    "             'WGZDSIZLL VZZ BOR. IJVLHW IIZ LSGA XHLQZ GKYF IVK SSNJ ' +\\\n",
    "             'HJJJ CSYLDRK HQHY GIQDT PSXAKXASPN AAG JXAM, CPWKQXXR PWK ' +\\\n",
    "             'XJDIZ.'\n",
    "\n",
    "intercept2 = 'PCEZYE CD AUN NQPSWS KLVIFZG RGRX CMPTT BV YSZU XLQ CMPMPST ' +\\\n",
    "             'NM NAGB VHYEP HLVE XYT FIABYK AOL SPCH APF CMDR, SGB BLKF ' +\\\n",
    "             'WX HEYHT. JAQ NM FR QC OHCOLZKTS SB UWWB UKWAJ JZVG EUQ UTL ' +\\\n",
    "             'JDPM OSQAF JSVJ OCZ, BOU EB RD JV FCOVIF ZWJJSMJHL DAWT ' +\\\n",
    "             'YNOWN CAUO AQD KLF PDNFL.'\n",
    "\n",
    "intercept3 = 'OJSDPN FXH F KU TSZYTZWJF DADH YQOJTSL TNH ARWE RPWXYVDI IO ' +\\\n",
    "             'ZNUV HWK’U KCBY. ZXCOEKN PJCCB HLM DMMS, LCBXDPW SAVDAN ZKE ' +\\\n",
    "             'TVOYCR, YVZPVHP MTI SIMAE XDV XIECW JBI VBV RPOXBRA VFLMH ' +\\\n",
    "             'ABAXTEXO—QYH GQIX VSU YDTFSK VP LJZE BSX RHKRLDSG ME DBGJ ' +\\\n",
    "             'VCT’C DDCW. BF EYBGN PU FXZ JVC WXHYM ZB VZ NYU RUKAW ' +\\\n",
    "             'OIKGQ—ETRQKH, TMUFVBC VC HBZ BKLRUNMA PUYF UHXG QQ UZRB ZL ' +\\\n",
    "             'EFOVCKBP IM DDDX DSM XLCS CH FRW OYGJ AZ UUWJUVYN ZT MVDWEO ' +\\\n",
    "             'TUPAF SSP JRMS.'\n",
    "```\n",
    "\n",
    "### Hints\n",
    "\n",
    "You will need to use Professor Tallman's `enigma` module to decrypt the messages. Each message was created with a unique daily key and a unique message key. *Since you only have one message per key, Rejewski's techniques will not help.* But here's something going in your favor: *no plugboard cables were used*. This means that you can brute force the scrambler combinations pretty easily. There are only 105,456 possibilities and you have python.\n",
    "* The first six characters of the message *should* repeated message key `ABCABC`\n",
    "* You should now know how to enumerate all possible Enigma keys using itertools\n",
    "* Brute force the daily keys until you find a valid daily key at the beginning of a message (three letters repeated by the same three letters)\n",
    "* Once you have the daily key, reset the Enigma machine with the daily key and decrypt the ciphertext\n",
    "* It may be that there are multiple daily keys that emerge from your brute force attack\n",
    "\n",
    "### Grading\n",
    "\n",
    "This homework is worth 10 points.\n",
    "\n",
    "### Turn-In\n",
    "\n",
    "Submit the three message keys and plaintexts via Canvas. The format does not matter: you can put them in the submission text or attach them as files. Do not worry about any particular naming scheme.\n",
    "\n",
    "### Extra Credit\n",
    "\n",
    "Create a new function within Professor Tallman's Enigma M3 class. The new function, called \"decrypt\", takes a single argument called \"ciphertext\".\n",
    "\n",
    "```\n",
    "def decrypt(ciphertext):\n",
    "    pass\n",
    "```\n",
    "\n",
    "The function assumes that the first six characters of the ciphertext correspond to the message key. Your function will decrypt the first six characters using the current settings for the Enigma simulator (whatever those happen to be). Once it has decrypted the first six characters, it will verify that these represent a valid message key: three characters, immediately followed by the same three characters. If so, the function will reset the Enigma machine with the message key and then decrypt the remaining ciphertext. If the message key appears to be invalid, the function should `raise ValueError` with a helpful message.\n",
    "\n",
    "This function is worth 5 extra credit points. Turn in your updated version of the `enigma` module."
   ]
  },
  {
   "cell_type": "code",
   "execution_count": 2,
   "metadata": {},
   "outputs": [],
   "source": [
    "intercept1 = 'AAJPMC GBP CW SHQ LBT MOHH UI WYYF BZNDU QBKS KGX CF ' +\\\n",
    "             'GEQLJ KQUJ GSM OXS NMFDTPTW. PAY SNR NKWERS IIIZE LC WPI ' +\\\n",
    "             'FPTYPI XC SKX. XHQ HFD OVK FLL NWUHI HE S XWQ FS IY OHGJ ' +\\\n",
    "             'VUAOB BHSF XAC TUULNMK GOKSRMS FSD OMMCQZCLYDWF IJ XPN ' +\\\n",
    "             'CCL, EM TNP XONXNZCP YW NLG FMERQXMF SW AYEYW BMM WBC ' +\\\n",
    "             'VOXNZNMF MWIT JJI. GC WOS BKPQ MWHYB LHAU CSX ZF WPQRXTV ' +\\\n",
    "             'RGP GYVGJ VQ CNXXG KSCZVZ. SLM JLFM UF LCCP EXO NSXHMVKP ' +\\\n",
    "             'NKQ TZCFAUKE, DW NKWQWG OZW LK IYS. TNC IHHWUMAD NSF ' +\\\n",
    "             'YTULQT; TT OZY EUAE DYCKK VY MDR’I YHLURZEP VUPQYLKS. WNK ' +\\\n",
    "             'OFG, EB EVM XEWRJ, VOWNPV OYXFC DK JBJUO AD FBM YXMRV. TN ' +\\\n",
    "             'QYH AYNH RCZTPTQ UNBFWP EPJMC ZUXJ XQ CBCDO GX INTP ZUT ' +\\\n",
    "             'EPGKGZN WHF RRD HFJN. MXU WKF NOFWZCORE FPVPA YL GLW ' +\\\n",
    "             'WGZDSIZLL VZZ BOR. IJVLHW IIZ LSGA XHLQZ GKYF IVK SSNJ ' +\\\n",
    "             'HJJJ CSYLDRK HQHY GIQDT PSXAKXASPN AAG JXAM, CPWKQXXR PWK ' +\\\n",
    "             'XJDIZ.'\n",
    "\n",
    "intercept2 = 'PCEZYE CD AUN NQPSWS KLVIFZG RGRX CMPTT BV YSZU XLQ CMPMPST ' +\\\n",
    "             'NM NAGB VHYEP HLVE XYT FIABYK AOL SPCH APF CMDR, SGB BLKF ' +\\\n",
    "             'WX HEYHT. JAQ NM FR QC OHCOLZKTS SB UWWB UKWAJ JZVG EUQ UTL ' +\\\n",
    "             'JDPM OSQAF JSVJ OCZ, BOU EB RD JV FCOVIF ZWJJSMJHL DAWT ' +\\\n",
    "             'YNOWN CAUO AQD KLF PDNFL.'\n",
    "\n",
    "intercept3 = 'OJSDPN FXH F KU TSZYTZWJF DADH YQOJTSL TNH ARWE RPWXYVDI IO ' +\\\n",
    "             'ZNUV HWK’U KCBY. ZXCOEKN PJCCB HLM DMMS, LCBXDPW SAVDAN ZKE ' +\\\n",
    "             'TVOYCR, YVZPVHP MTI SIMAE XDV XIECW JBI VBV RPOXBRA VFLMH ' +\\\n",
    "             'ABAXTEXO—QYH GQIX VSU YDTFSK VP LJZE BSX RHKRLDSG ME DBGJ ' +\\\n",
    "             'VCT’C DDCW. BF EYBGN PU FXZ JVC WXHYM ZB VZ NYU RUKAW ' +\\\n",
    "             'OIKGQ—ETRQKH, TMUFVBC VC HBZ BKLRUNMA PUYF UHXG QQ UZRB ZL ' +\\\n",
    "             'EFOVCKBP IM DDDX DSM XLCS CH FRW OYGJ AZ UUWJUVYN ZT MVDWEO ' +\\\n",
    "             'TUPAF SSP JRMS.'"
   ]
  },
  {
   "cell_type": "code",
   "execution_count": 3,
   "metadata": {},
   "outputs": [],
   "source": [
    "import rejewski\n",
    "import enigma\n",
    "import caesar\n",
    "from itertools import permutations\n",
    "from itertools import product\n",
    "import string"
   ]
  },
  {
   "cell_type": "code",
   "execution_count": 20,
   "metadata": {},
   "outputs": [],
   "source": [
    "# initalize\n",
    "myE = enigma.m3()\n",
    "ciphertext = intercept1\n",
    "reflectors = [\"B\",\"C\"]\n",
    "rotators = [\"I\",\"II\",\"III\",\"IV\",\"V\"]\n",
    "alphabet = string.ascii_uppercase"
   ]
  },
  {
   "cell_type": "code",
   "execution_count": 21,
   "metadata": {},
   "outputs": [],
   "source": [
    "# all possible daily keys\n",
    "possible_daily_keys = [ key for key in product(alphabet, repeat=3) ]"
   ]
  },
  {
   "cell_type": "code",
   "execution_count": 22,
   "metadata": {},
   "outputs": [
    {
     "data": {
      "text/plain": [
       "[['C', 'V', 'IV', 'III', 'A', 'B', 'P'],\n",
       " ['C', 'V', 'IV', 'III', 'A', 'F', 'H'],\n",
       " ['C', 'IV', 'V', 'II', 'A', 'L', 'W'],\n",
       " ['B', 'V', 'II', 'III', 'A', 'M', 'V'],\n",
       " ['C', 'V', 'I', 'III', 'A', 'O', 'B'],\n",
       " ['C', 'I', 'III', 'II', 'A', 'T', 'X'],\n",
       " ['B', 'II', 'I', 'III', 'A', 'Z', 'F'],\n",
       " ['B', 'V', 'II', 'IV', 'B', 'E', 'K'],\n",
       " ['C', 'IV', 'V', 'II', 'B', 'E', 'T'],\n",
       " ['C', 'II', 'III', 'V', 'B', 'M', 'K'],\n",
       " ['B', 'III', 'IV', 'V', 'B', 'M', 'M'],\n",
       " ['C', 'IV', 'I', 'III', 'B', 'M', 'R'],\n",
       " ['C', 'II', 'I', 'III', 'B', 'O', 'N'],\n",
       " ['C', 'III', 'V', 'IV', 'B', 'P', 'N'],\n",
       " ['C', 'I', 'IV', 'II', 'B', 'R', 'P'],\n",
       " ['C', 'III', 'V', 'IV', 'B', 'V', 'K'],\n",
       " ['B', 'II', 'I', 'V', 'B', 'W', 'E'],\n",
       " ['B', 'IV', 'V', 'III', 'C', 'B', 'G'],\n",
       " ['B', 'V', 'II', 'IV', 'C', 'F', 'K'],\n",
       " ['B', 'IV', 'V', 'I', 'C', 'G', 'M'],\n",
       " ['C', 'I', 'III', 'II', 'C', 'J', 'W'],\n",
       " ['C', 'II', 'III', 'IV', 'C', 'Q', 'B'],\n",
       " ['B', 'V', 'II', 'I', 'D', 'B', 'D'],\n",
       " ['C', 'III', 'IV', 'I', 'D', 'E', 'M'],\n",
       " ['C', 'I', 'III', 'V', 'E', 'E', 'U'],\n",
       " ['B', 'II', 'III', 'V', 'E', 'F', 'B'],\n",
       " ['C', 'IV', 'I', 'II', 'E', 'I', 'W'],\n",
       " ['B', 'II', 'V', 'I', 'E', 'J', 'A'],\n",
       " ['C', 'I', 'II', 'III', 'E', 'O', 'T'],\n",
       " ['C', 'IV', 'II', 'I', 'E', 'W', 'J'],\n",
       " ['C', 'III', 'II', 'I', 'F', 'D', 'M'],\n",
       " ['B', 'III', 'IV', 'V', 'F', 'Q', 'M'],\n",
       " ['C', 'III', 'IV', 'II', 'G', 'M', 'Z'],\n",
       " ['B', 'V', 'III', 'I', 'G', 'R', 'Z'],\n",
       " ['B', 'I', 'II', 'IV', 'H', 'I', 'S'],\n",
       " ['C', 'V', 'II', 'I', 'H', 'S', 'G'],\n",
       " ['B', 'V', 'I', 'III', 'H', 'U', 'B'],\n",
       " ['C', 'I', 'II', 'III', 'H', 'W', 'Y'],\n",
       " ['B', 'II', 'I', 'IV', 'H', 'Z', 'Q'],\n",
       " ['B', 'II', 'III', 'I', 'I', 'J', 'X'],\n",
       " ['C', 'II', 'I', 'III', 'I', 'M', 'X'],\n",
       " ['B', 'V', 'II', 'I', 'I', 'T', 'B'],\n",
       " ['B', 'II', 'IV', 'V', 'J', 'C', 'I'],\n",
       " ['C', 'IV', 'V', 'III', 'J', 'H', 'K'],\n",
       " ['B', 'III', 'I', 'IV', 'J', 'L', 'D'],\n",
       " ['B', 'IV', 'V', 'II', 'J', 'O', 'P'],\n",
       " ['B', 'V', 'II', 'I', 'J', 'R', 'E'],\n",
       " ['C', 'II', 'IV', 'V', 'K', 'I', 'S'],\n",
       " ['B', 'I', 'II', 'IV', 'K', 'O', 'B'],\n",
       " ['B', 'IV', 'I', 'V', 'K', 'P', 'H'],\n",
       " ['C', 'I', 'II', 'V', 'K', 'P', 'K'],\n",
       " ['C', 'IV', 'V', 'I', 'K', 'R', 'H'],\n",
       " ['B', 'V', 'III', 'IV', 'K', 'X', 'R'],\n",
       " ['B', 'I', 'IV', 'V', 'L', 'D', 'M'],\n",
       " ['C', 'III', 'I', 'IV', 'L', 'F', 'Y'],\n",
       " ['B', 'V', 'IV', 'III', 'L', 'L', 'F'],\n",
       " ['C', 'I', 'II', 'III', 'L', 'Q', 'B'],\n",
       " ['C', 'III', 'IV', 'V', 'L', 'V', 'D'],\n",
       " ['B', 'IV', 'I', 'III', 'M', 'L', 'D'],\n",
       " ['B', 'III', 'I', 'V', 'M', 'N', 'S'],\n",
       " ['C', 'V', 'III', 'IV', 'M', 'U', 'K'],\n",
       " ['C', 'V', 'I', 'II', 'M', 'V', 'J'],\n",
       " ['C', 'II', 'I', 'V', 'M', 'V', 'Z'],\n",
       " ['B', 'V', 'IV', 'III', 'M', 'Y', 'N'],\n",
       " ['B', 'IV', 'V', 'II', 'M', 'Y', 'X'],\n",
       " ['B', 'IV', 'V', 'III', 'N', 'H', 'L'],\n",
       " ['C', 'II', 'I', 'IV', 'N', 'Q', 'U'],\n",
       " ['C', 'II', 'I', 'IV', 'O', 'R', 'U'],\n",
       " ['B', 'I', 'IV', 'II', 'O', 'W', 'L'],\n",
       " ['B', 'II', 'V', 'I', 'P', 'D', 'E'],\n",
       " ['C', 'V', 'II', 'I', 'P', 'D', 'O'],\n",
       " ['C', 'I', 'V', 'III', 'P', 'G', 'M'],\n",
       " ['C', 'II', 'V', 'IV', 'P', 'I', 'Q'],\n",
       " ['B', 'IV', 'II', 'I', 'P', 'M', 'X'],\n",
       " ['C', 'I', 'IV', 'V', 'P', 'N', 'X'],\n",
       " ['B', 'I', 'III', 'V', 'P', 'O', 'E'],\n",
       " ['C', 'III', 'V', 'II', 'P', 'P', 'W'],\n",
       " ['B', 'III', 'V', 'I', 'P', 'Y', 'J'],\n",
       " ['B', 'II', 'IV', 'III', 'Q', 'C', 'E'],\n",
       " ['C', 'I', 'III', 'IV', 'Q', 'I', 'S'],\n",
       " ['B', 'IV', 'I', 'V', 'R', 'K', 'D'],\n",
       " ['C', 'V', 'I', 'II', 'R', 'K', 'D'],\n",
       " ['C', 'I', 'II', 'III', 'R', 'K', 'X'],\n",
       " ['C', 'II', 'IV', 'V', 'R', 'Q', 'O'],\n",
       " ['C', 'I', 'III', 'IV', 'R', 'Z', 'H'],\n",
       " ['B', 'II', 'IV', 'I', 'S', 'E', 'Z'],\n",
       " ['B', 'IV', 'V', 'I', 'S', 'L', 'J'],\n",
       " ['B', 'I', 'III', 'V', 'S', 'R', 'G'],\n",
       " ['B', 'III', 'V', 'II', 'S', 'S', 'P'],\n",
       " ['C', 'IV', 'II', 'V', 'S', 'V', 'E'],\n",
       " ['C', 'II', 'III', 'V', 'S', 'X', 'H'],\n",
       " ['C', 'I', 'II', 'V', 'S', 'X', 'V'],\n",
       " ['B', 'V', 'I', 'IV', 'T', 'C', 'C'],\n",
       " ['B', 'I', 'IV', 'III', 'T', 'F', 'T'],\n",
       " ['C', 'II', 'IV', 'V', 'T', 'G', 'V'],\n",
       " ['B', 'II', 'I', 'III', 'T', 'L', 'G'],\n",
       " ['B', 'III', 'I', 'V', 'T', 'T', 'Z'],\n",
       " ['B', 'V', 'I', 'IV', 'T', 'Z', 'O'],\n",
       " ['B', 'III', 'II', 'V', 'U', 'C', 'N'],\n",
       " ['B', 'V', 'III', 'I', 'U', 'F', 'Z'],\n",
       " ['C', 'V', 'I', 'II', 'U', 'I', 'X'],\n",
       " ['C', 'IV', 'II', 'III', 'U', 'J', 'T'],\n",
       " ['C', 'II', 'III', 'IV', 'U', 'O', 'D'],\n",
       " ['C', 'V', 'III', 'I', 'U', 'V', 'R'],\n",
       " ['C', 'II', 'I', 'III', 'U', 'Y', 'T'],\n",
       " ['B', 'II', 'V', 'I', 'V', 'I', 'B'],\n",
       " ['B', 'IV', 'I', 'III', 'V', 'M', 'U'],\n",
       " ['C', 'I', 'III', 'V', 'V', 'P', 'P'],\n",
       " ['C', 'V', 'III', 'I', 'V', 'W', 'R'],\n",
       " ['B', 'V', 'IV', 'III', 'V', 'X', 'T'],\n",
       " ['C', 'I', 'V', 'III', 'V', 'Z', 'F'],\n",
       " ['C', 'I', 'V', 'III', 'W', 'A', 'F'],\n",
       " ['C', 'IV', 'III', 'II', 'W', 'A', 'Z'],\n",
       " ['B', 'V', 'I', 'IV', 'W', 'L', 'A'],\n",
       " ['B', 'II', 'I', 'IV', 'W', 'O', 'M'],\n",
       " ['B', 'V', 'III', 'I', 'X', 'J', 'T'],\n",
       " ['C', 'IV', 'III', 'II', 'X', 'K', 'W'],\n",
       " ['C', 'V', 'III', 'II', 'X', 'Y', 'P'],\n",
       " ['B', 'V', 'III', 'IV', 'X', 'Z', 'L'],\n",
       " ['C', 'I', 'IV', 'II', 'Y', 'B', 'A'],\n",
       " ['C', 'II', 'V', 'I', 'Y', 'B', 'A'],\n",
       " ['C', 'I', 'II', 'IV', 'Y', 'B', 'J'],\n",
       " ['B', 'IV', 'I', 'III', 'Y', 'D', 'K'],\n",
       " ['C', 'V', 'III', 'I', 'Y', 'E', 'Y'],\n",
       " ['C', 'I', 'IV', 'III', 'Y', 'N', 'A'],\n",
       " ['C', 'IV', 'I', 'V', 'Z', 'A', 'Y'],\n",
       " ['C', 'II', 'III', 'IV', 'Z', 'D', 'N'],\n",
       " ['C', 'III', 'I', 'V', 'Z', 'N', 'K'],\n",
       " ['B', 'III', 'IV', 'I', 'Z', 'N', 'Q'],\n",
       " ['C', 'V', 'II', 'IV', 'Z', 'S', 'V'],\n",
       " ['C', 'II', 'I', 'V', 'Z', 'U', 'H']]"
      ]
     },
     "execution_count": 22,
     "metadata": {},
     "output_type": "execute_result"
    }
   ],
   "source": [
    "# find message keys by brute forcing by setting engima to random keys\n",
    "# ensures that message keys are results from daily keys that repeat\n",
    "possible_message_keys = []\n",
    "for dk in possible_daily_keys:\n",
    "  for re in reflectors:\n",
    "    for ro in permutations(rotators, 3):\n",
    "      myE.reset(re, ro[0], ro[1], ro[2], dk[0], dk[1], dk[2])\n",
    "      mk = [ myE.keypress(ciphertext[i]) for i in range(6) ]\n",
    "      if mk[0] == mk[3] and mk[1] == mk[4] and mk[2] == mk[5]:\n",
    "        # storing message key info that resulted in repeated text (ie: GHEGHE , not AJDECP) \n",
    "        # remember we dont care what the text is, we only care that the text repeated\n",
    "        possible_message_keys.append([re, ro[0], ro[1], ro[2], dk[0], dk[1], dk[2]])\n",
    "possible_message_keys\n"
   ]
  },
  {
   "cell_type": "code",
   "execution_count": 23,
   "metadata": {},
   "outputs": [
    {
     "data": {
      "text/plain": [
       "131"
      ]
     },
     "execution_count": 23,
     "metadata": {},
     "output_type": "execute_result"
    }
   ],
   "source": [
    "len(possible_message_keys)"
   ]
  },
  {
   "cell_type": "code",
   "execution_count": 18,
   "metadata": {},
   "outputs": [],
   "source": [
    "possible_plaintext = []\n",
    "for mk in possible_message_keys:\n",
    "  myE.reset(mk[0], mk[1], mk[2], mk[3], mk[4], mk[5], mk[6]) # reflector, rotor1, rotor2, rotor3, char1, char2, char3\n",
    "  possible_plaintext.append(''.join([myE.keypress(t) for t in ciphertext]))"
   ]
  },
  {
   "cell_type": "code",
   "execution_count": 19,
   "metadata": {},
   "outputs": [
    {
     "name": "stdout",
     "output_type": "stream",
     "text": [
      "YNXYNX NN QYM LPDRTU WSTUCOT HCTY RZCYC CS SDIZ UHJ KXLAFYZ PE EUID GUHLD QFAK AGJ NTMOXH LGT MHTD NZZ HEAI, RII GRWW OP MYUVE. BZT SG TS LH QRPNVJTVN UL LTUI HNLPZ IPBA ZZO YUO OPEF ZTYXR KYIQ XTQ, JMA FA EJ RI VQWNCC GNRIFEQSE NJCQ NHIBF BNFD TDZ FZK RBUAJ.\n",
      "OTUOTU LU UZV EADBPR HGOEKXZ EAMK TSTZM CU NNDD IDH FLNBTGP HE EGNL EXLWS AJMR TZS XFLQZY EUD JMXF LUA NOKM, FOE TWYR CC FSOTW. XCO EG UQ XU XYSSQNECC UX VPAQ CNYGF SVNE QFF CKH HUEN HHDEH KJMH YJC, SJO OS HZ BE POSOYX EZSZZUEAM NHXO WGXMY QBPF XXF TSV WGMAW.\n",
      "WVJWVJ EF IAC PDJGML FWPDLFU SRZH KSEWE ZP QCKB YVX SDJBKMX AE VCBW BQZUU SKGN UEO XHEZEI GRW QTBA QGH LYIA, HPQ HIEP LU OBNOC. QIE ZN RF MH QEXQHGFNV QS KOOZ HDCSQ ODZQ FJM LVU VQQB RIGNJ VZIM GME, NCE FC UB CF XOTLDL HKMMJKPSS TFAN RGPNU JCWK CSP BHR QAHPE.\n",
      "LKILKI MA YEV UGCIXB HVKNCNM QQOL SQXZA YY NVEX MAF VDQHMBB YE KIQV GMJME GZRV HWI CPUVJN OXA KQWX YFQ VBFG, ULT EJQR PR YPBWC. AIF ZF NV NZ PIQPRBPBQ PE ZYES NADLN XAQE OJB GRN YHBP EBWOC YNWX CLV, TWC TE MF XR SDIBSN PAVIYANZR EZSL EUDDP LCGB TJG YIV TFYYB.\n",
      "GBNGBN XR NIJ ZTHQVZ GGJZLSB EFSH NNEKK VJ UEUN SZT TSQNTHK AH LHQY YKARF RUUC GBJ RMFRHO NZS PXXL ILA GTBP, LPQ NUDW XW NNGZI. MSC RR SW AP QEHAXPLSW FV DNQC RPSRG DUBS MAC OII PVSJ SFVFA FQXA GAJ, WZG TE PY HM THWXKY WHQQBKTMA KJKX APLSR DYDJ WGS VKR BSTGR.\n",
      "MSNMSN LN EVR FNXYAD RXRYCXZ TKCO DKVHF FE ENJR WAU WDFGLTJ XF FUOO DOLSG POGB LSR CRUXOP MMV HJIC TQL UTQS, ZCE FALU OV MOQLD. XFE VO NJ YQ NWPTZGSPD BR TRLS YFAJI CQCZ YMU IFV LASR DHXXV UTZX PXX, RUZ DK TB UM RPCYFW VPVQCXAKM VJPO IKSKY NNSN KPI PER RKEOF.\n",
      "YFMYFM EL ORD OSTOFY EACGMHD FNCE EFLZX PO MPCQ REI NUWWSNV PL ZQNT HWVZZ COYR SKQ VVVILI GXG QDKT LTU USFC, CQH DCHW AD COIXP. AUD QO UU ST BMFMJBLYI ZT ZNBR CCYZA ABWA NCT DLY PONP SDRTP OBNM REC, YTS IX CG DG SUUTUN LRYVZWYLZ OPEI NOMVW YUPW ZWU BEU UYFMX.\n",
      "OBVOBV WQ FHB OAYIJZ VTIAOBT VXAJ MJFRN NN KXWD FZX GYXSFUI ZJ YQSH NDQZI OWIL ZVX OGQMXA TCY EEVX VJC HUUB, UIS KCVV VD TWNDH. BGO LD XG OA LCRWKXGOL LD SBUC FJJSE MIAS CFT DGN OZJH SGDWJ BOEZ JLI, INM QP JB PG VIUKXA AJUBURBNT ABAG PPTBZ XZRG WYE IZX HQUUZ.\n",
      "QBBQBB TG VDZ CTKQCN CRQCWKC ZXIZ GEBVB DF SHMR DCA KLGDXTS OL TLDV JLVBF FAQY NWF JNTYCN QZI UQDE KDH KFFX, VQC KMWM LA PMKYH. IQE XY EO MB JGNEQKUST TX KQHK FUXZN HIMV PVS VSQ LHNK DWMBK WVXT WBV, QUL QZ YR SH AJQENH WPURTGYCB NFBH VDREV MPSY GNC YYS UFQOS.\n",
      "RGFRGF SX WRF EOBBEB SRTLHRU QZGJ PZYEK NC RHQG YGY QWAUCIX XS AFBS QGIGX RFBL UIQ UCPIIB RYU BQAS ODC GFBI, GTA ECWV SZ GWNQY. POH AV WZ WF ECKPEBTUU JL LKAA VBYBA DSFD MYC NXP HBKE CCYSX DFYE YYY, RQP DI GW IP IUVOGH VEHMVVFBO HJJD SWLJR ADQB FTU CIQ YSIHJ.\n",
      "LEHLEH VN GKK DLUPPD LFUWWML KWNT YVXAN IN NIJT FTW TVMIQRX TT HYKV AKBJW SQYM GWJ WMERMP PSE PVWQ OYK ESZB, HUJ WEOO VC QRTUQ. POL RX UB PW JNFSUOPAC WY QLZG NCKVN NOCU XCK GPJ YASC UUXQD ZDBO NLP, PZM FX BP OF QDWKRM QARGYKIUY JZSE FCGKA GLCL FDW VBZ ROVTF.\n",
      "YJTYJT RN OPH UCTDCF NHQUOOM CPWW YEISJ NM XFLJ FJM RIHCRDZ XY KDZY CTTNC TBUJ WDS TXZTLA MPW WGPR UUX KUUN, OPO RQIM GR QTTSZ. ZPF OK VA RA DETIMXINK KX XZBK TUFVB ZCRS BRN GUM ZVBP RWLJJ ATRC SYM, GHW BP NF ZP CHESXQ VYXRLELTY KDFA AWDOR NEKS OPN PHT NQFVN.\n",
      "IKVIKV KJ SOT HAUBKB ATLBZRA NDFR ZJBHQ UN ETOE BCF VPNQWMH FL HNIE QCJNN AIUM FCW LFTGTV KUI UQTL FSZ SVSS, UVH VGGB IL BWTUL. BVF CH TS AQ WBVSRXXMC HH VIXQ RCSEX LTEY JAV BZE RXNZ YYZBO ZJGM FAM, GSH LX QX SL RRZRUM GKHFYIEFT YKPX BDBJX IICW YKV DJG KPOOP.\n",
      "BTKBTK FJ QLX ZKIYFI NIBMAPQ LJWK BKZIP RB XFSD JAR UIICFGG SI OHVU PIVFY CAAF CIQ DWNVGT JTI DKAX SVQ JBSD, PLC LIME DR TXFVV. EVR JO ZS MP AVDSRCNCJ PY WAOJ ZVAZY ERFT FKR HRF EVVN LBKEA WBRG RPX, JTS VY TX XF AHAZRM MNOYFRYLS WLIF MORNZ UPEL LDX ZMI APMWA.\n",
      "UDFUDF IX GCC PJJIQQ FVPGZPK OZDV LELLR CK QYPE QFO YGJQNDG JJ XCPE QJPTQ VVDC ZVN NTUNUY WCB QIHR YKR ZJOW, YTT IUJW JN RFHTF. HGZ YG YV ZO XTDGJQGBA AT NCXP OYBFV QAFM MTX IYT MSBO XGNOP BGSB III, XWX MS UB ZN XOLARJ RLXXVKAOM LLTC KFPPS BITH YNB CTC FVEVW.\n",
      "FXJFXJ FH VKR DJLCRT JFYHAAE POLL QZLGM ER HDKR ATR NLKLQEE RD BJIL DGPKA YSOP SFG CRLJSB LJY CAVR QOE TDYX, FCO YCGT PW FLMZP. OPV VZ RX WF LXFKAXCAE DV XMJO AHAOL TKAV DDH BPI XTFO FQWBQ AQLT BHJ, ZVY FL DA ST NPBRNY PSPBRGZDB NBZX FSZFR TCDW EAP DPB QLIAI.\n",
      "USVUSV SL XAS DZXHBU FJDBBCH HNYJ UKABW ZB BVXR TMO MRHBBXL HR YXLX WSUDW LZPO PGZ TXCUDT NDN KRZL SAU ZFLV, EXX AAUK XQ TRRRJ. AXA GJ CU DS VOXIMNTEO GF RYKY RILTN GKLJ LMR MLW GMFI PXOHY LCNY SEF, JVB AP CG DJ MFRTJO BPPSZTHQR HHZK IVLVM LJQP DOY PCJ GJMUQ.\n",
      "QBBQBB TG VDZ CTKQCN CRQCWKC ZXIZ GEBVB DF SHMR DCA KLGDXTS OL TLDV JLVBF FAQY NWF JNTYCN QZI UQDE KDH KFFX, VQC KMWM LA PMKYH. IQE XY EO MB JGNEQKUST TX KQHK FUXZN HIMV PVS VSQ LHNK DWMBK WVXT WBV, QUL QZ YR SH AJQENH WPURTGYCB NFBH VDREV MPSY GNC YYS UFQOS.\n",
      "IXSIXS HY THD ANSJAT EFHSGFA QBNO GGEAE GO QRGC GHZ XDFSZLA BT BKYE QZKWC VQHQ YMH UCSGSC XWC VCMP ZNW RWGK, JYX PMVH YH SSLFN. BMG PS XH BD ZPFSBLJYW QE RYEN FDLTB LXHX RQC RMV AASP QFREA EXIO RUP, MCX LH TA MX UWJHNY QIIUFDEEV GSBN VKHEK NXJC HNW NGH GCEMN.\n",
      "EBIEBI MB VKY TMFUBG AYMDXIF PKMM DUMHG EO FOLZ WGW EAGOYLR PS XEWK RWHJS ROMT WWU BPBZPB FLG LXJV NID TTAO, KNK XVPW SO LIFMK. MWA RT UJ TG ECUUXYMGJ DK WKIU RDFPW SFWZ RVG OCK ZFNK HYHJQ PFFY RMC, PXJ KI MO EK MFCTDE JYDNIYWUP YLMG DMJGH GHHF HHB VGE URMER.\n",
      "TPYTPY YU NDK BZFMUU GJBVCMS QHZR RHTEC AC ZZPH VWW YCYZDEO GK SEYU DJKMH GTMC JEI UVJGVQ LGW LZYY XGD UHTH, UTO PSGH ZE NAKVB. KCA IB XH CA KFUEVEVWE FE HEKI ZFKJX CLEZ FVR ZDF TWRU VJLFO ECND BTP, TMW IR LN UE JFCBCY IHYANFLBD SVAP ALTIO TRSQ UKV FTW QHGLV.\n",
      "SMPSMP IW JLX CUFYLD IJHXDRU NNWA RIRFM GN AAFD DOS GGKIVCG IB JPTY BVPXY TQDR QGH DCLGUF TLJ ABRJ JFU NJCH, CID HJVY BC BNHFA. XOW UZ VB YR JCMKGKUJD MA OJGT MUGXE UANY SEE KIY BYZJ XWVOU HYFF QYN, EAS WV UH ZD LVMNZY WVORHXHMF CGKQ FMLGU AIAV LXU HPO GGISB.\n",
      "TKKTKK BK CFQ OJHFNC TCLLGLW MRPN PVVGL VW XUBA CDE YGIXTJN BL KFDN UPXAF JTIO PZW IECCRJ LGX YRRL BUP BFTS, RVP RVDD NM SRKOS. TKU VT WN VL DMGNBDJHP BC XVCO ZYPOB IAIX IZB SMK ACRR CEKWY CWGM NFH, XUB MY BA IY MAASXU WHMNIDNBK VXPN LPIUV PDRQ EPN ATR EPXDB.\n",
      "RIDRID HP JRV XNAEEJ MGOZXCP BSPB VDOIF HU OIIH TFV SATRZHD XA DITQ WFEYU UJSP LKD VOIPVW CZJ POMY BRY FUKP, DQL YEZV BP XYFWV. PDY AG LX BQ MNBJXJNXY TI FCAD GQOTT CRSJ WAR PKJ OXMW FKKDQ GXPZ JRJ, SJD XN LO RM WAAOKK QULCDIWDV PEMF ARZZJ EEFR ZTA OQG HUGQY.\n",
      "USVUSV SL XAS DZXHBU FJDBBCH HNYJ UKABW ZB BVXR TMO MRHBBXL HR YXLX WSUDW LZPO PGZ TXCUDT NDN KRZL SAU ZFLV, EXX AAUK XQ TRRRJ. AXA GJ CU DS VOXIMNTEO GF RYKY RILTN GKLJ LMR MLW GMFI PXOHY LCNY SEF, JVB AP CG DJ MFRTJO BPPSZTHQR HHZK IVLVM LJQP DOY PCJ GJMUQ.\n",
      "FHGFHG GL EGJ TJBREJ ZOCSJQV IBZB YNKLK PU BOKC DRH QPIBHDS DL SQVA RTNFO IYZI ZRG PTKADQ UEO TQAV MCZ GJUE, RAP CKWN TN GOCNV. APX CC KZ VT MLEHCRPNW EA JOIR LNTCS HUUT UCT JYX SSMO WBBPX ICTF LSC, ZMA RF YF PK RMJXLP WIZDUGMGU OQPA QRNNQ UIRA VMZ LQU IOXLR.\n",
      "QSMQSM ZA FYW CAEQGP LMDFIAF CKZP PZGFH KK LTUJ QHV SVYOQTH PR EUZI UKSUW TXFJ UDO ARDASI TRJ TSPY JWJ LNUY, RHU RAFB SD LUAGW. IXC PU UH UM UIVGCDOHE VE AXQC LCKVY ICZE YLF SKO APWF ZZAMZ TQQM GVM, SHN NF FE EH IQAKKO BQTGGUUEU GHLW PGJTU SRRP ZZZ VVU NMIEZ.\n",
      "ROXROX IL HAY GMUVPP HYQALEZ JZIK IUMCL UK QIVC TXE VSRTTKP DZ QSCR PBSOB JYYG IMH LAWQMP EGI QEWZ LAA USOA, ZIT QGAN OU JSEOI. FYB HF BT KW ULRHYGPPZ XD PDKV FAEYC TOHH WLW BZH BPFQ KVXLP YAYA TFY, SSV UV PB UM RNGHTM OEHAJBXFC IGFL MRAUU TUEG BST FEI ESRRG.\n",
      "LRILRI TU BJF PHXAPC YXHCPSZ PWEC QASLR NJ JQIZ LPO ZXXGDHZ CE EEFW ETWZK NPGA LWO XKEZID WTU VRAC XQA PSXZ, FNF INXD KP RCDGK. WXB BP SS XZ XDJTVGNNA GL KBEQ KUGGW UJHI SZI LAU FVMG TJNMR HDYO DDD, XCP LT IC FD DFKYBY TCDNPONEV WNKV PVBNA RBMA RBV IPT FAXDK.\n",
      "NXTNXT QH YCS CDFYAR QWSWZOS VANM TTEZQ SG WXIT JWR RHDCAEQ VJ RXCT LXVWZ MRWP CLE RWJTHU BGJ PLWY NZV RGPN, QUQ ZUUG SP MPMZX. CGZ OA RB BE TOWMHCMMA FU VUMI TQEXO UXLW COI XAC BTKZ DASXL DGOY KBX, YHR BE EH LW BEPUMI QFADCUZGD JEPU KTBVO NBTS BAW XIJ CZWUP.\n",
      "MGKMGK UU NPQ ZMURQQ QHAUWDH YTMZ BBUCB QB SMJL GGL KDMJRDE KU KZYC EGZWS VPHL NUZ TXZPZW ZPW LHVK VCO WSFO, BHU XPBO HD JSUDE. GDM UV LV ME DAVADUEWT WZ FZNY PNPTS RIMZ ITR DVF WEXZ FNIJR FXLE ARA, NRL MG IW FN YYXKNA BAMLDENTM TIBK PYTOE MPSM IXM GVP NKADM.\n",
      "GBOGBO KJ WVD WSZIJF HOWJCLP GYBF XSIHG NT KCNT LAL LIRCYDU VY GXNE QQTUG RTSP HWH TVEFQL ZWF XUXY ZOT VJTQ, VNG CZJS GH IQMUX. OHT PV DI JH YWPEKCPVM TF VXCK TFUFU GBGI QII OYT LHXW JKFEB OFBZ LTG, SSA IW AW LQ JPECDU TJSBNWAMJ ZMXA BLEOU OLGQ WIW GWS GEWPC.\n",
      "TTGTTG TA FPE ZJOGVK ZDGOBUI UKWM XUNMD EI EODZ GII HFBLTWI KP UJVZ UXOZB QWBV LJY JPSQBZ EYQ FEXN OLD MGYN, XVO UPGW ON DLMEX. QDE MZ KY WB RGVAINDAL OV KIRP CYYGB AOTJ CQF ZOG OYLO IGRUA RMFA BVC, CHC CH SH FM PPTWTO DOWGRCSMY RFUX NMNVM LUZA UZX YOH TSAMC.\n",
      "HTDHTD BC CXS WWRKSO VATHERU DIYY PCDJQ AW SNLO THO APZGRKO EN OFLG FDBVI NMAG IDS HNBNDQ QAA QNZA LMH EHCO, VJD VMTP RH OFPJI. SRJ XP ZV DZ EQRAGTGBI JY WRGJ TLKWS PKOZ RZS LQF YWGL JUUMV MPLA UOA, KEI ZY YO DU URCXTS DQSAMNHNS BQTB TBWKF BXBE JLC HEZ EEACJ.\n",
      "GTYGTY PE NIO IJSWQQ TBKPGQB SJBC EFDUY AY LQFM HYS MACOEEG VZ QGQA BJQMZ LSFT MEO GOVGDV BSA QAFJ CNM TALA, WDT FNAY YD DLWZI. NEW LK CF RS YLWMNGVMJ FR CQMX XXHWI PKEL SXR JWZ RKHW BFFOP PFBZ FKF, HZV YG VA ZA AGMYHG TFXGOKFWO RNIP DDFMB LMSV SCL SPS NKSGM.\n",
      "FVMFVM NH HSX WZBVOL IRPYPGZ NIWW MAWYU NX HQWN ZSO MWTIKRH GJ GMNF MQHVH CBJA VJV OJGWFX BBV IKPG ZLX YWGP, JNI UPPZ UM UGHYS. FES RR JN XM IVEAFHEII IY NKRV OEQLN PMYL KVX RAW GEFR HDVQB EYZA NBU, TNP HD JZ KJ OEVEMR JQINHXWBP UOZQ ZJTOR AGVD FRS URH ROAIU.\n",
      "MOSMOS PT UCF OKGWRE NBMTLNN LVVM KBAWJ LP WBVS WMV GXWSCED VZ MZDH ZKDLN NNSB OHS QNWSPZ BBR HDIW FGB RXIJ, MIV VUMC LZ TLHEN. HLT PR CP HB ZNKSRGFZB PG EGEI FQIZQ OBBR TQA RCU PNWF EXTIQ STLO ESL, YQB OG OC GI KUBWJV SRNBQJTEG UYGB FKWXQ JVEG PDH OMI OTJWI.\n",
      "QHHQHH FF DID IIOWLT RROGODR FBWC TZNPD QE PVEO ITG ZEFWNAF TV CGIT HYQSF GELY PWQ KLYNES HAI LSFP UKA OBXY, FJX OHYV DJ AIHEW. RMK FU LW FB GDRFYUDCJ NZ PXHM AYQDC ABLF DED QMM YLYE KXTGP ZDUW XWP, NGQ HQ SX AI RYTPLG STQUQQYKW ROTL CTTHB RLXP VPO WPL OYLPP.\n",
      "CBVCBV JU IGO ZBFCTA ERPXVHT OSCW QQQDG WE CKBF YWJ GWLKQYY RG QGQY YIFIB KZGO JAR MBIZGT XGN IWYW NCU KNVB, GXZ KDFV SF RQUAR. PIP HF CC KQ WGGYMOGYF QM VRJF TPQCG BGGJ ZFT HLA IACG QXDKV OBOH XFY, IVQ OM SZ ES VOGUAS TESGHPEVZ XCTW TOMDB YWJM CIG XZQ QUSUJ.\n",
      "CKNCKN ZJ HBK LIMCMF PINSBQM HVWU UQCCW CX KTXS HZN UJATEDV TW TXDM ADJNX JYHG PGX OPLJOD JIB AEFU LDD LTJE, JOE LNYW ZJ WOHQQ. BMA IT XM FQ PGUZVNDDX WU ORRY BBGJK YABC DXX TPG EZIL JLCIB GIRA YYB, UGM LD JU SL GVYNYO SOTZVTNWO KLNK LLJJU NZJJ HOA DWL YQREU.\n",
      "GQBGQB RT PDR VKFUJV SHNKPQP OFTQ EJEON SZ UEXM NEL YATDRUV EX QKZK JYCDS UKBB UEJ NEHYIV VSD VJKG ULT YTSV, HHR LXRX EW BMJPG. ECJ UY PJ RP BRFEQIBUY ZD CVDW QELCI FDHA QFR CWX QBJS LKBRU VKFK ESD, OEE CD LW KF GKRKQL UKPRWQTJS BHVZ UGPKD JUEV FDJ GGK ZSLUH.\n",
      "DPZDPZ SW XVT SHXTRP GBYDMMX QFFK RSAXF EW SPJL RAV LYQAOHF ON MIVG DBSVS QSUF FHX JFCNKN GSM OMJD CLQ EDBM, VCZ MTBO LH BLOYJ. KKN ZA NS NE DJGWIBTVN CY BKCI XEFKQ VWHM JWD FQT HVAF GVYYW ONID REP, DUD MP BI GA SVGCXJ EXOGCPSFY SZEX DLAHT AHAQ YXR QXN MZUHX.\n",
      "JPFJPF WS XQB BWEXEZ YUSHCVH CESI YIDXJ SH TBES NWL MXNLOEC BJ DVPV PLLVU GYPQ ZLJ OAOGVD HUY FYMD JNZ IGUV, ZFA QIBR OF ENOVK. OUX DG JX ZJ ISOZUMFAX FU SEEA YAKZV YSAA NBX PGG QMEZ CGEIM PDGK AIY, GMR PN OX KA VHBPVE QCXUNQVVM EBBE MHDFB GDZI LZZ UGD KNWII.\n",
      "FBDFBD IZ NSA ZCRBQP WBYUBJQ NSFT NBUPR MF CJUM ATP UFUSLLW PZ IXIA KVOAE NZIG JAD YOEEOU RBO QLXQ VHE ESMQ, CIO NJMW YE KGLUG. FDF TT QV CJ UDXCZBBNK CH IKZD JBNCB TTZJ ROJ XDW IKRW JUMPM EZFY BYJ, PUS AG IK QW QPFUMK MKQVCGNVQ GXQA UGJFT XCPK EAL NOX HBAHE.\n",
      "JQHJQH JU XRK JCJXHO YEABCHI SJTH VQCUC PK LEBW MYN IOGBQUL PJ ADEN XPTWD TCRS KHG HLOJOS GVE HGOM YVL TUJC, MTQ MNJK YF PZKUQ. OWS PH QA CR EXALAYQXC XH NBSG ZFOMS UGFN PQS JRO SFBJ NMVLM RXRR XSJ, GAP ZR MY KX QMGFHK NPHMPNWUZ FXGI WQSTA PBET WWR WZZ GGWXN.\n",
      "VXGVXG HX HGS PNMTCA FFLVVWT BDZZ ZBZJS FN NOXP PWZ DULHCZB ES ADDG XPLOY BNGX RBX JFWCUO LCE WQKK HYV FSXS, VVW KKRS RE EKGQI. QNO SR OS FQ YXTEECJBC KJ GJSH JXQIY ETXE RZZ JAX XJQA YUAHR OZJY LES, ILM YG WX WS AAGJLG CEUQWGPTC UYBD CWLFH UDTI MWM BCD HJPOC.\n",
      "ADCADC ZY PXK JEGRFO SSSPVGP IQHK NONGS PY HWDS VOO HNOAZQZ OP XJPF MYRNB AXUW ETK NQURSQ SSG XBKF TVU OYCD, NKF WOFZ TW UKIVZ. PTM CN IC YQ ZSKTMFHNV ZU FQPK DTNTC CYIW BEV FUH WFMH LXDNJ KQIS ZST, XZV IM QR BI IDYUMT MOOBAOANH JBZG XDTDX RITL CGC IKR UZUIZ.\n",
      "OWJOWJ BV RCD ZMXROZ MGPNGAX NXDL SOVQX ME XLOE NWO BKJOMRB WI YOBZ RYUIJ JHEZ RWP KGSFEV PFO RCPA ESJ QDXM, LKA PKSG TM NNGFJ. HGK SG DV EL TKHMGGPLF EE SJKV EZARQ TLUD NJW JQT QQWH ECXQM KYLQ ABK, GED PQ KS LI ITVAHX ULRFKQSCH SJNU UMGJO GCQU DGU MIR ZCSKI.\n",
      "JQHJQH JU XRK JCJXHO YEABCHI SJTH VQCUC PK LEBW MYN IOGBQUL PJ ADEN XPTWD TCRS KHG HLOJOS GVE HGOM YVL TUJC, MTQ MNJK YF PZKUQ. OWS PH QA CR EXALAYQXC XH NBSG ZFOMS UGFN PQS JRO SFBJ NMVLM RXRR XSJ, GAP ZR MY KX QMGFHK NPHMPNWUZ FXGI WQSTA PBET WWR WZZ GGWXN.\n",
      "CAQCAQ SY RKO ALTTTM LGIKCHI NQTP FKTZC TU NNEX IVB FEEEKGP TE XCRU JYKMT ENIJ DAM CKSOSQ GAO AGZS BGL VSVZ, GSN VTWI DK IIRWU. WZT PS PM HT YTDBPIFNE GI GFOW DREBK PGZL ICH FAZ GYBV WJBFI NTUY IWV, MGK SY PP QG SSBXWX XRSNPDSZO HZDX ZDXVA BFCH ICR HYA XZICC.\n",
      "JQHJQH ME FXU FEEXFE CJMMXPA DUKT PVNUM PQ SPPJ VKW AGUXBCV FG TZBY TATII ONAQ HSQ LOYGDB ZDF XWAK POM JKRF, KZJ FBTW ET MSAEF. UDY DZ DQ FD XWPQRRTNO NG ARDA DFJNX PGSY FXO KFA IPSB SNUGH GRSI POG, TUQ CW FW ZN EJZKXK MPZKMUDVV JZXU ITCCK GOEG EIB WAB YIKKH.\n",
      "OKAOKA VM WOG PFLEJT VTIMCCO PSUR OIZKQ CH AFVS MFP WKXHVTR FD VPOL OPBVH SQTC OWD KZBFTT KRS UCJG VMV WKOC, QOU QSVH GY KKPCU. YWS OV DZ KB EQLRWCACY BA HPTF DYECA AGEF KST OIN PLYH MAGSM QTYC JIL, YAM HJ NZ LL EDRZAW HHZUUUGAN IDMW LHKZD TZBR BDI SWL TYZKZ.\n",
      "NIRNIR MN KFI KKFFCJ HJXOPCL ARZH NIASV XB HMDK OBL YFEWWFK AU PVRZ PURJB ZORC ZKQ NFYEIA SQQ EXHN VBV LDYK, XKQ TTYZ GC RNITY. ZTK CP PQ RN MQZZWEYUT YF RSXT QSJMV EGJU CPW JYA WHFF GYGVB LCIP CRD, AXJ ST AV RJ STBQTW OXRPDDFRS EYMQ GVDES LSYN VRI OCC MUIIV.\n",
      "JHRJHR ZE IZC XZFZPJ SHKSMLR JEIT JGREX UF QOMG VJV EPWKFDS RI IOVF LZRSC ABTJ LXL WVYEIO ZUK XRKY TJV NZLV, CMV LKSM BY CHIYM. FVR PK UL MK LQAEKMOOL GV KODE TJZUV IWGQ YNP OHN XSYI LDLFE HQCR TVQ, JBI CK BE MR VKUCNO LGMERZMBU BEPR KTWLW VSDV YEK YJR KNTXV.\n",
      "XZDXZD NG TPI INALIC VWLFJTC SRII WCTPZ IE EITT SOD JZCFCVE XR OHMI JGUDM RWWO JAC JKSIAV GTQ NLJU UBE MZIL, QLR FESM YC KNSSI. YOZ VA QE BN KZDHUAMOI UR LSKJ LDFZI LNPS XPC AFG FAJY TRUCA MEUK SSI, TLY KX DP ZF KIKEBC SPNBBJAPZ TYSA VOBHA WIFF PAL YOM RIJMJ.\n",
      "KTBKTB GB PWD OBERUZ FJDXGXC IJCZ GBYAU UW RQCF CBD MWQJJUM FS LQTD YCPNO QPXU PUU CMKNCM HVO DSOM WWM IRVJ, ZQZ ZFNN XP ISVRJ. OES RI DA BQ CDUXXBNEC UM YVIG TRCWU BJYM NYE PSP KEOJ BOLNS GAMS JMP, VIX GW YS KE QMZYAR XZUMWJOVC TTVL TKMSK FYBH YBQ IGU DNDED.\n",
      "OVVOVV JT SEL GVCFEY ETFLZQS INFL NTQGQ TF FKLR PJG PULESJK RJ YIKW BJQRV ZPDF POK YMPUPJ FTW NSGY GIC ITXT, VBF RTYQ FN SMVME. IXC QR YG SF ERNIGYSSW HE HQSX LUQPN SOMP VBO DDD MKVL EYUSP SBCK MAQ, PCS OQ KZ GP AXQGZL NDHGEURYT VYPY LAQZV QWHH QPQ NFE KBZUE.\n",
      "JWJJWJ GK JKS MWFCDQ DURMXNB GUYM FRSKA TS BFMJ BKT FRBFLGA JE ZKOJ QNTBI AUXZ BQX URSIJX TPR HDMG BNX NOGM, YRM QOCZ QN AWTZK. LXM ZR TN PN PCEXUTWSQ UE FQBT NDRME ISIP IEO XNR WKJR TVOQE PUNU ZBM, CTD XK BE XU WBRTKY JHOSJEGMA ZVBW OCKLY TKRA YUI OPY BWGCY.\n",
      "CFTCFT YE FJB OVMMGB QNMXTPI ICUF YPREF UY VNLX QML MHRSLFM UK PJWJ QBPOU SAHJ FVC HNHLFO EQE MDUW IZQ ESSA, EFJ PIDV PT OGJVO. RHG VY II TK VEIZWHGLE KK VQKU RWSDN UKMZ KQD KNS OUYQ KKLDR VJGX LIH, LJW PA OQ KB MPPZGB LSZXORTIY HHNN IZPSA MVHP ZTK VUV DVHBX.\n",
      "KAXKAX ZP QWG XNFTZD WNSCHTB TXGI AEVCN SH PAQJ BTG IVGJYVC XD FLFS PKSMC EJCB ECY GPPHSJ NPS ZGQF KYG VYGC, KEK LIGO LJ RYDBE. RGH PD VQ VS ZPISFRSEP HJ NDMN HPMMW XKTT THY VJH LHRA ZUWJH SWUO LGC, TQK OQ CH SM AAQOUD MGQACRHSA YXXN BRVSH HHFF XPH ACJ JGUVG.\n",
      "KSQKSQ EC CKE WKKTJF VZNWSAC EMKF LRJUJ PQ HCCG QUO APLLIPO BU XPDF XPXTY ZXMV DWA AJPEXF GAB NAJL VDX MOSN, AHT MJQR RN PJVUZ. ULM YB CZ UX QPKYHDDZR WL RPHO IFTRC HDCX YJC SPN LUWK STNLC QTYI BKH, KBR DL JJ PD SULPWN OAMGTEKDD ASKK ZOUQZ SGBE TYP WEY XKSUN.\n",
      "CAYCAY KA ZTE PURDVE TYBRPLC IJUO MKWPY JA MEYZ NFO QFRELGG QG QKES DEWIQ EGBH HVW AWHNCB WJO FRGS KFH LIYO, RHJ IVYV TO VYMEY. SCX QQ QU HA EJPRGGDPD ZZ SGCT RCGLI HJFW FNK INQ VSMV SAJZO IMBA CEL, EVW MA XJ GJ GRALOV BGGQEFCVM NLYJ OUADD MYOY VRK NCR HTHDQ.\n",
      "XZCXZC VX UPE VELIOQ DXCVSSP WPXC SQMVD ZG KNAK GXN XFYCEWK CN KWBW ZWQLS SHMY EFA KEQKBE UKI RWMS LUV ACOS, PCA ZTXG UH GQAZR. XGX GE XZ IP YWYNNOXAN QZ PNCS XXFVV DYAQ NTI YFD NPCC IMENV DKJQ UAH, NHL LU TY WU LAIOLT YQZCJDIDH HYPU HUWBS TZSC MLJ XKS UHZLJ.\n",
      "GJDGJD IC BLI MFLNQQ LQIHGWD GLJE ZNHGO IA XMWX PQY DVEUHKM WA SOPA BRLRG QKLC EPN ULJLSX SSG NLQL YKX TAKM, AFD TPVE DE VKWTX. HUX OL NT MV KPPDJDFRX LV BAUL BAKJU KOXJ DXU ZFY TLDB GHGES FYZO FIC, JCH QK IB ZO KJMBWT MXVTGSPFY NUKP KYFFL JFCK FYK XJN CLAXH.\n",
      "QUUQUU SG KGI ELWGPE ZKJDBPC GXHS EEYOR VO CZHC ZVT AJMWBNA SJ ZTIL ENWLZ MCFH CUA VWQXTI RVD QRHF XUC ANTX, MFV YWEB EM MCNAQ. IBG IQ JS OV FKYPYBLOR DI IEJA PNGQR LKDL HXX HGJ VOSY TZEPT EHIL DMJ, WPY YW FN WP AIRMOC UYKTZEAWP GCSV DXZYZ TJVY QPS HUV BOEXX.\n",
      "TVQTVQ VR GMA JLDXBD OHEOEWQ QOXF RUNYW DQ VQBF OIO DJTOMNG LO KMXM KGAGB FHUV YEZ UEWIPW ETZ CQML TKD LGVO, JJM KXGR NL EVZTP. NIN DE CV SD IXAFQATER HC NYPU ZXBET BQXE DMF VIA HGZX WFCOV LFXD JNV, KNG AQ FU BI RWFSAJ NCGMUEEJR SVAN EKCYX GUWH NPR HWP BRFRT.\n",
      "LIWLIW QO QKH DGUNYE RMHZHBL DVLR QQSOI YS QCHL LXS FXVBMRW RB SFZF IPCBS CIWG OGJ SMUJRL KVO VWGZ KUD PZMN, ILD NBNV QZ KZULY. WEX HI NP RX TIZHCVDCK AG OJAQ EBREK CJMH MYD LPY FMHE MADCB RDGR ZZN, KYW PV OF AM CBUEQM YEOGMKLGV XUKG WVFAD RLWB RZG UJG OOCVW.\n",
      "WIOWIO RQ HJQ MGIMXX CNTTMKU AQNP YNYXJ XY LVBL SJE AAEQSTY TV GILQ LCXUF VCLT BOI HFFUOD ZJY VGFT LUB PKYF, TKI YAFD PM CRRLJ. XDV YZ BD BL DNYPEXQOW WI KBRU MVATK UVUC YKZ SPR VLHK NWVEM CPHE VFR, MXM HI GB RE AKMFEM BZQDTRGFM THLW DGQQD JCWM XOT SXV OSQLV.\n",
      "CTXCTX AK PIO BORWIX CZSONRV FUCN SJDQI CO VWKM LHW YZCAXUM JN QGUY ZYOWI PMAN ZIB ZABGDB NBO XLON TTL BZOQ, JOQ WVER CM PZPXK. AHD DE BF VW DCIDTFZZV FY YETA GOZRL EBYY YFX VNP MSXL MXUCE ULWF UYE, MUC OO PV CY LUTMHP BAZXUVPXM LPBE LEGVY HHCL HGI VPH NFSCC.\n",
      "RNKRNK UO SRL YPLZKQ ZECGXAC HFWF HBNSX FO HXGF QBG EVTWYJW LD CWKN UCWBO FDGS SXE CBIPVU SAM WXWY SBA VFEA, XBT MYIM HH ZPIBG. XVY LR VI VY XOQLETMOX QL JHNT GOQXF YLLN XMN KKJ UKJT LHOEV OMFQ ULG, XJB NX QO AD HUHRKH GRROKLWUB TVQO WPHKX YHPE OXY DMS EOOAV.\n",
      "GJDGJD IC BLI MFLNQQ LQIHGWD GLJE ZNHGO IA XMWX PQY DVEUHKM WA SOPA BRLRG QKLC EPN ULJLSX SSG NLQL YKX TAKM, AFD TPVE DE VKWTX. HUX OL NT MV KPPDJDFRX LV BAUL BAKJU KOXJ DXU ZFY TLDB GHGES FYZO FIC, JCH QK IB ZO KJMBWT MXVTGSPFY NUKP KYFFL JFCK FYK XJN CLAXH.\n",
      "GWAGWA VF CSJ IUKCLM VKWYKGP VKSF YEAVB NX KCHC RFI LPUJWUV EY SFYK ARTLH MTFI TDL VVCDRH TEE OVEQ XAP DZBB, GTA WRAN HQ OAOPV. ENW JK IS UG TTALOCFJE HY BALA VXIER THNM ZMM CUO HPHD BVGKE OXSB DIW, VRZ XR XQ FP OLDXQC OFYVTKGRK OJNN ALZAA HSJI SXW UUR VBWYA.\n",
      "UWXUWX SF GHQ KVIVDQ SXEYEYD VAIY RZXUJ XC JYEB OEA EIFSYLE RI IGXA KNKWO PKZQ HNQ WVNGAQ UMX XOLL ESX HAUP, ZKO ASBN HN OPGEN. DZO KR YM EM BSUEDYYYN ZA PUSE HWLXE UGHV YCR SYJ YWMV FXCZE KMSY BZW, JCS QW NR MZ GENAOI NCROXLGRJ JSLU CUJGQ SSPE YJG SNL QBWRP.\n",
      "UWXUWX SF GHQ KVIVDQ SXEYEYD VAIY RZXUJ XC JYEB OEA EIFSYLE RI IGXA KNKWO PKZQ HNQ WVNGAQ UMX XOLL ESX HAUP, ZKO ASBN HN OPGEN. DZO KR YM EM BSUEDYYYN ZA PUSE HWLXE UGHV YCR SYJ YWMV FXCZE KMSY BZW, JCS QW NR MZ GENAOI NCROXLGRJ JSLU CUJGQ SSPE YJG SNL QBWRP.\n",
      "BXFBXF DE PAC OALUYV HNTKJFE VDNQ BLDYE UO SQTW FMF XEFLXZS SO QZCU PEDGY EURZ ZEC GHYWXW FBU RFLG KWW PPPM, EQH RYHN VE PZNXH. AML JC BG ZA BRMZKRGWM VA RUZV ALXIT IRDB GAY PJB EVUB HHEEQ BONT HFN, CTA QR EH WO AUNDPY ODGFZRFOU SXUS KDEBG GIKE EPO UPH NYWCP.\n",
      "HDBHDB XL ZCO UFRRVK QZQRGOT CLNQ JGECE QN MCTB BCR SGCFUCO UQ PQND RCLJS BZNZ AMD PRCRSU OLM FDXQ GUZ UQZV, TPU CTXN DS DTRUO. BGY DE CV JD ADYYDABQH GW WIMI FOAYM KPRX VEB FXY GAGW CCVKU VYHA YVX, GAQ KW WZ UY UGCNQA MZKWYCURK NCXE CQEVI APTR LLA MVJ ZCIBB.\n",
      "BRGBRG OA NNZ KVFQFZ XUKXBMW QHXN TVJBO VL UVWN GKN NZMRNCZ FX IWRW KXIBA UUUF KTB OPVDCZ OJQ VJMY BUL DRRQ, NDN RDBJ HL MMKPI. HGU VO VN VP HEUKQTCDE WY KMJD VVYDK VVXK NHF XWC HMFK PYIQZ LXEH BEL, PMK VK MB CU SFVBNJ FZSXKOYWA QWMU ZDDDP WFWK SPZ IIR OIUDF.\n",
      "WZSWZS BG ENU JVFPRR SAGFPJV EZWQ AZWYQ PY BWOF IOI YBZOKFX RB INZJ IYVBM JYPB AWX ENUIUH NGE UXBU XYB KVFG, KFR LMAW CL ZXJJY. GNO WZ PK NU SWTPEIUIW PX JDST CJIVL KAIO BZN MCO DUZA WFMGC KBIF QHE, HRQ NZ EQ VW HPWCTL AQUSLLMON QZZP HLPHM RKSH PHE EQL UFURK.\n",
      "UOPUOP ST POP ZNDOSO JIPVXGC JQVY QXBGB AE RDAG RCD FOEJEVN PB TDTF CLUKN FPTN MJI PSUSLP PCJ EKVK BLT OQAP, QQR HCGN FP SFHZM. YIV EP YV FJ BJYBXHQWM HV BLQO BQMSU EJKF IYM YXP PFGA FGHUW ZBBQ JYR, QNL AU HR BZ YURAUS GDQSRRNPO OCBV NRSAS OBBN NWN RWD WEJTE.\n",
      "FWTFWT DR HYJ GVDTEB TYBRVOJ JRLA WTDIJ QG ZGTH KVN HDMJGLP TK ZYMC ZCVML QZOR BSL HAMAXN JUN WDSB XAW ZSLM, EHZ PNTG IK GBJBW. LIK UY TV ZU LWRVBROMG GO PFTE QUAKA ALCZ SCF WBE XJUX GMKWY GJUB WNB, JLA VK AR WG EABFCU PCWXILSNQ KRLI XPMQL ROKV UTA MXE RKKES.\n",
      "ERYERY KH MRX CJTZLW VYGTGVF AXJP KPYFX EH UJBT RZZ OIENNPC IH OCNF PEBGE QDBM CIR ISTTTT VGB DZHE GRE ZQGT, IOO KXAY RB QFCCD. LWO QH UT XO NKHPUFQVO ZM FLTO PHZSV VTBQ ZFB IWH FHUE BHPTM RGQH ZEH, FDZ YZ GR TR QFGEHI DNGQTRQMP WBBN ZVKJW KFJD BKH PAX IZLGI.\n",
      "USPUSP JZ GKS LRXOLM DGUCPNK GEES OTSSO GP SJIB MKS RYQNFFV LX OIMK KERYF MRDF JJL BWNCRW WKC VHJB GEA BXKA, XCE DSIJ EB JBVWU. TCW TC UU NH ZVYVAVRAT OU SAJD JPAEZ OANZ ZIF RBQ GXNQ DWUIJ XWSE LMV, AWQ FJ DO RF BWSLQC TLXRLEKVD UTRE ILTNI BCJG CCR VYM RXYPC.\n",
      "GFRGFR EO IXT RNNYGY ROSNQYW OATH XKHFK RQ ELGA JAK ZADCICW BX HWCV PUEOV IMSN UVJ MEYXWW LUJ MNTO QUE KKWE, VKG PZDZ PL NPSJQ. NKL CF YV ZU FTRFMQUCG VS PEXT MAVBX TOON FTL PZU NOKN QBXSM DIPG CEJ, FYC GX VO VU DGPRKS OMAPAKFRW HUEV ZALKB XWWH UPO GIN UFATN.\n",
      "VLMVLM TO NLE ENQVNG ZSOBRLA LXEZ LVWFN VW OQGP TKA SSKWBLZ PJ ZRNF DBVYO GHSB GWF NZMZGT TFC LASE VXQ VASK, YNW OZGU UV RRGFD. EVS QQ WK IA ZJNTTQQKR OW KGND RHVDM LFJW NSG DFJ SHEI CZVFS NYAX YNB, SYZ NR VH SY QQZUJZ MOTPMAXPI NVNC PQFCU UJWR KRN IZN OVZYY.\n",
      "LXILXI VN EWH YLNPBV EGCEKXL DPFS TQCVJ PB XYFB WRC ZSJSGHE RL OPWC SCAAE BZTY AFL OYQDKV YQZ IGRQ NDB HVFH, HYJ PEPZ XU MPQUQ. POR KK BA LM FPYVFSNBO CJ BRQR VNDFL YPWK ZYJ ZMR YEZK IAHLJ EPYF TRE, TET HR YE VJ LVBNSD VSIILPYEJ MQZF ZSRLL IOGE HBY CKG YKZAG.\n",
      "QDKQDK RB XDO YTMOAY WDFNYDX KESZ EPQXP GI TVJT GDX MAHTZQI TC YEUO OUWBI TICB OFD TCSXNI VHZ AOYA DXJ MXUE, TWY YBEE QU BWWFD. DQI KW GS EA RMBPJANWV YA DGEN GJBZO DOID IKE TZC AGXW UHEBC ITDA XTS, LQJ UF TG IC VPYIMC XGPWYYDBN WREE SKYCI BVIF KFL BOG JJWJS.\n",
      "JVIJVI MU CMR ZOBESI IOBKOHH PJEO PTYHL LC OUSO FXU FABYYUA ZC EHMO GSEPE ZOTP HMI HMODVZ DQO UCRY PDG FJZB, USY IVMH ZU SDZGK. WPD JL SM TW HZQLUTADY RU NNSF MWCHU LTAP TNU XPM LGUG MLXFO MPJZ TNE, PXA FO BG RJ TXHSDA PVIDZNDIU XCNR UZEUU WKFS XMC HGY VBEMR.\n",
      "DZXDZX UE NIJ WTYGFU NFRHYNE IAAG WWRHG HU GUMV CNX XVVDGMD SZ XVXE BDJKC FRDA MJE IOQYEZ FLK DCNV QEP TORW, LQM CIMA ZH RHTCP. TLK CA UT RM BDDFTLYXK MI HPXF PAVHX ACGU WGN WEN MIYA RANVM SYLV FHS, XSY KM ZN KT EARUQI ARBTUELMS PZLU TIHXO KLYK LIQ TSN MOBVB.\n",
      "EEOEEO SS ZPZ ZPYNQT DMNYUDW ILYU IDXAR SR EJPS AHR EASQSON LO BSBS PODYL YOGF SVQ JQBFXI VKJ ODZR WXP NWKQ, RAW JSGC DJ ELSQI. DKH WR MT FP KABXCNJVJ OQ TKSK TIUBB AWKO KLG KBZ AOCY TOSZC UVRX FHY, SEF ZA CC MJ KXWXFS DOOIKLOXC GOXR SYIDB JBPI FBJ LNW IXARV.\n",
      "SDXSDX VR OAZ CIDCLG SYIXPCV HXPU QZDCL NZ FXRL KDD JWBIRKM JX DLSR EZTOO TBAV UIL SHSCPJ RPZ TMRY HAD OYSJ, DYJ OBSD JD QHDJN. FOB QZ PV GM PLXNQSZBA QK WFKH ICESY ACYD JKD VLE BZJD XRWDV RCAC EIX, LJI PI HF YG HRDRXO XIDGQTDNX RUPS PMBMB ASWT OAX RON XCTJN.\n",
      "LZSLZS VN OOD LLCPTM VEWLALL ZDEO HYMIE MJ QYFB MPI RYKCMZW FA GSFM CSRDJ KZCJ OLC EXLQFC DBT QMMB SSG KYNL, KAU MCCI BF GLOSD. WJF AH QZ EH WAGMFDOBD IW ZQMS RVLPZ HMUO PJO FXY OWRB AXODW AHQQ MDT, UVE QJ BI UX HBWSDJ QUKYULNNY VTOZ PHMGO HLQY FVC ABN WFWQK.\n",
      "YFJYFJ QK TIM HEVDRG FTNJURB MADT NJHJH MJ SAIF URF GERLJXP EJ ICXH LMTZT TERJ KNI EVNWXZ KKY IFBB TBU ZLIT, FPU DTFP OA MJWDS. DCC MK XB EU CIIAGPRJP DX BCMP MGJCR XRID PCJ LHE BRWN FNNQR PTRM QOI, CJF HQ QF SQ LMYRRY WOQFYVUKP VCBZ CPKBW MKTQ DXX JMN NCOLH.\n",
      "HWFHWF BP KPF WVZRQC TWMUQSM IUFS FDEGV NU JAGM BXS XRXNNLQ IP RMBT HYLNW BYCZ LCQ CWWNCD ZTO ESBP ZLA KQEU, UEV AXGX VK KOCGO. WVT XV UU SI EGGETNMHA YE LSXK QIFLW VJDL VNZ TKS FYTH ELFFU MWTB EFD, DGA WN OK OP TNFOXZ FDCZKXVIQ PDLM FHABT ADYN PBY QKO DREXH.\n",
      "EEOEEO SS ZPZ ZPYNQT DMNYUDW ILYU IDXAR SR EJPS AHR EASQSON LO BSBS PODYL YOGF SVQ JQBFXI VKJ ODZR WXP NWKQ, RAW JSGC DJ ELSQI. DKH WR MT FP KABXCNJVJ OQ TKSK TIUBB AWKO KLG KBZ AOCY TOSZC UVRX FHY, SEF ZA CC MJ KXWXFS DOOIKLOXC GOXR SYIDB JBPI FBJ LNW IXARV.\n",
      "LJQLJQ VN VNZ ULBPUL RERHODL LCEZ PRCNB YM TDGH ARF ZSOCAWO RJ CNCT OWVRA REPR EIL JZRGWV MQU JCQN SMZ JABP, WUG MMEH YH LMNRH. BSP SR EU FU HUNZMLYFK LZ HTNK MPEUA RCEF SFW FJN ORHQ MDGUC LHXZ XVR, AAY GY TB KZ RFGOYO RASGCSCLB SSPS TFJIZ FMSU LSV IRD XZXWC.\n",
      "YEQYEQ XO JMF JBOGPN CEAQDRX QFTV XXLYG HG HGYC UKL DHYAXWG FU MLNY BOXLU ZGWU TCI CMGKHA DNY JNSA WNE YRPB, MZO ZYCB VK CBQKD. NKM RB SU UY XTAUMAPCV OW CBJS VGKIG BYBQ YZO FIW UHRG YGDBV PDCZ PST, THM GY WP VU AXNTPM YHEFATFQB JGCQ ASIFC FMHX BPE DDX XNEHK.\n",
      "CWACWA NK OQE RMHAYO AHFWPTC VFXC QOECH AH OMQO NRS BNBOVTG WW FCKY AGKXA RYQY QZX HNJPMY NDF BMZV ZEV QHXI, LRV QZJB AC VVBFU. TTS SD NJ RY ZBHXSTSWY CM WKLY GVLUV ATNN YYH CHT KOJO NFRYE NVCG LZV, ZKR WU BO MG QZUQZJ SYRAXZUWO HWEY EJIDB UCKP JDO OWG EBTIE.\n",
      "LXJLXJ YQ MJA VBGFRE LCEESIS YBLH YJKIH FH MYBR TAM YDCTQGK IR JPWP HEGHH JQEF TZV PLMGCG HFO UUUL HMC WWOB, OHJ FMVV FT TWHTI. TJE CC ST TH UEDQCDEHP DF HPGF NYELA WWIN TGY ZBE TIMA DMCYZ QRAD ITX, FHY TK XE HF PSSWEU AMGREHCRC GUCZ MOURW TXHZ HXN JMK NILXY.\n",
      "LRGLRG DB DAI OKRZJE COIDAME AZSG RDMQV WU HDMJ WUV PFVZMDP LB TWAO CRWNU AKEP RRY NYINQM RQE TWFP LDZ HWJD, ILT VPSR QN PBVLG. EOX QA BC HV CQWUJLCNH LU YNGI GZTKI GKMV AEY WBV TOXZ LFDFR BIFY JXT, HGL IH MW CC XMWHFG PLFIRXGTF WHTC SDAQV JMFG VWX NNL WSKKG.\n",
      "GSKGSK DX IMK XFGMGD PNIZIWD URJE GBGMQ AY DQPT TDS EURHLRC MR OGCV FLMMT LWCC UAH IVIEHA WCP RLIV CJX GKJC, ZLR GCBH KG XVJCX. EVP AF TE SW UMUQIETNJ TN ZREK FOKXG HVZW QZR SLO IISB NBKFV XOUQ MQN, UEN MK HJ KO ZGULQJ XGVRWYFBH ALHX JTMJW SORM JPN TBQ ZOOGY.\n",
      "LLCLLC KM XXS IPJYUY FAWTYUH MSAB GKKAH UG DXLF ADO YGGLTXX EY LFVD LEMZY FWRJ TAL MZUMSR CYY WGNB ENJ LKSD, KWM ACYP MT SSJGO. HRD CE SY WU QWLBJYGNZ IC ACLK BSGJR YBRA FJN CUQ QXMU LINBZ WYNM LWK, CJD ME SA QH EQQMEL XLDPKROQH NQSI PYBPP JCCL QTP FVP ANRUK.\n",
      "ITMITM LZ XBQ WRSGUO RRLKLDM AZQV ARHCX PH VDSN YNB OJBJJVL WV SNPG QPHHU OHLS NVB TRSWKY PKQ VJRL RDX FEYC, XWF JAPE TV ELRSC. VCL UR EP DH PCSXAVQNI JO PHNK OPIZC KIBW BDK NMC RBGT RIZQR YOMU MSY, KMC HZ LF EB VEMOSN YIIFJKZAF QWVD QMETD OPVX QNA MDS FEUVQ.\n",
      "XRNXRN NZ WKS UIGQEP NHFVNBN LZMT YLTKA FL WYRW DDF GRNNKRU MH QSOC UQHXB MXDZ ZGI JLLDPT WZD OUJD UAN FUYB, DBT RODX IH XBJSR. MEP GH QC MG HXXBGXXXN LX XJRX PYLKD HLYE TCZ KDR XCVA WXZCL IECN JKR, TFE JG WW SX ONSYLQ LTDFJOCNR VKVK KDVOJ KWSC OIZ RUJ JCITF.\n",
      "UTOUTO YM VCS SVBTVV XBRWGAH FDMW DNLJZ WG XOBM BOZ GCQGLYB GX XIJD FZLFT LYAP YSD MZBSNR ZJH TZRC USE VZIA, VOE GPDP NG TPJQL. WEI PW RL TV NFOUNIPJE LU LBHL ZMKIV ILAV KWM CXA UTXK NPPKH WYIH BKN, ISP LJ HX XQ AASLNI PLRHLJMXQ UYON QKICL PBCQ OVF LXS JIAZR.\n",
      "VLMVLM FJ JCH PRUCDU VEWVUIU QZOW PTQXQ IX LDRQ QJX OSEPWBX VR SPEZ GQUAG XNOQ KMS KGWOKV NYS HYXP EMI KDYK, LTM CRVZ OI JJVDM. ADN QU LZ PB XRJBSMPIW BL NCCC CSJIQ TQEP VGN NRK GSRA HNUIJ HWZE FON, LGI ZX QX VU WSCIHU SEQYBDSWO RKDQ EGSPW WXKI FUO XPH UJLKA.\n",
      "HWQHWQ DB DBE VABMDW WTQOCRU UKZD PEGZC UX GMFD SEU YZFQVHE AJ ZLVW YKNQH TTBN FLF TGQKAZ KGI TTFK BDM RNOB, OIT ECQW IU CSLGN. RVY XE DN TP EFMXSENIR JV WMLS PVXTZ GEGB KRO BKD FTQY HMUOU LEQM SUK, ZVY KE ZN QJ ZWKGHC OELQLRXQE LTUE HFJMP REPK RMO OEJ TCRJR.\n",
      "NRDNRD BA XEM QOZAVZ CGEJHYM MVHV IXDVI EF BYYY AKA UIKQWOL MI BQXE TIJNS COBD YDM DDZPPM ZBO DDHT LDL LVCS, JYP OKLH MJ YXQRF. MXF CH TG JO KIVZCLBXC OE ZMJK DNPKD MFZI GGZ KQU KVXS WPWHQ ATTF JKN, FKJ SD HG SC BLJTVR GHHMDIEJB HXRS AUDPI GVZX GDJ USL JAYBV.\n",
      "BPCBPC VK VOB MLSEIC LYBVDCQ PTQZ LAEDC KU SUGE AVX NURXOGB KL CDAR OZRQH DMRS MDF SEWFHC VLG CUIS WHC XLLN, CUO XYNV AY ZCTRD. OQP QJ UF VS CNHHPKJLK KE FSUE YYXLB IVCE SQP YMT VXIX KFKTX UONK XET, UBD NO OH KL TLJYRN OGXQPEZKS UUUN GUKFR VQBY YIT WEY MWKLR.\n",
      "KDIKDI HH RXA KZRPPQ JSFLDCD HCDM QECSL OK AEVJ VEY IQKUKCR GI UYIA PBONT QVUO UTJ JTNLUB EPI WQUK EGQ JTUC, ZCS FVQN BO PONLQ. WPT GY CB HY KPIXIKRKR HS WQGR MUQRA XYSV NVG HVP LWZI ZLSJR MTNB IEW, NYD DC EO DU AIUPGA EEIFRYHTS HBHK ZTRLX TKJL RRO ARR SCSMT.\n",
      "FIYFIY OA OKJ AVWKOP CDIUSYC LYQF LURQA HX GOEH CMV ZLDRQRF DA CJCF NIWUO CXRK KJP DGYUIE DLO JAQY ILX MAPJ, UFX QDWI HN FXOAB. AOX UG TY HS WGSSTBEFF CN HMYR MTSTL ZHEY OBG JFT KCTR ZNGEY RNPN GXV, ZGC NN BG DI JTBHAV THQMNETXQ AMYF CIUEL XWBM XSL FTM UYDAB.\n",
      "AGGAGG SV XBW OEZMOH ABZQIME BWEE PUTXR LI SNKP ZGP YQYBFFJ ZX IBMW GLGIO LDCP DIB LMMDWW XHI KIRL EZV YPOG, GCQ VTXT BC AVGWH. WSM LT NS VO LZZFQJTYR KP FXFK PAKRH NYLH RAZ VBJ DNEB CAWNP ATDP EUN, AVY ZG OU BR EVQYQA COZEPPOKD JDAQ HTMFT MKHZ YON ASL KPHRR.\n",
      "GPVGPV IP VOO TNNNDQ NNWOPWY KHUS QFOBA VT LVOW VFP ESWKOQN QL PEZE ZFRLJ WVSO JJH IVEYHC NKV UNNB GKP HKXY, EXM KDGL RT PNMOO. CMI DA OX CO HEDKOQFFK JC XFEF PUCSN ZAYU GLR SCF YQIU XUSSG HVQE JYW, WQM NA IX EX YJKAQQ ASBEAEVGY LGGA BGRTQ RUEV PKT BUO GSZYA.\n",
      "WLUWLU ME JTU ZBUQFN JCPMQGY EKZQ UKSBB QK VITQ WAY TLBRDDK IU YGPT TILZI UCPY GXH LUNVXA PKJ VVWG HEM FWZH, EAV XVAW LJ NXSTQ. ZLN XN XH JE LBPUISEDQ IZ JNRZ HDSCP MMZW OET IXN FWWN KXKVD YLXI RQD, AAB JX PN HC AUCLJO ASRPEXSLU OSFS LAQGH JTNW TNF PSJ JBVDU.\n",
      "NKHNKH QU OWM EVAJGL LTXHNEJ NCJB OYWQR OP MXYD MFS OVTOGPM EN MKAS ANQAE KIMZ PBQ KHCIHC QAP PAJF WSC OAGA, OSY PVDT FS YQONU. KCC CU AV ND PJQWAXSDY NA WZZL GTNCB RAYF LIV MUN CRUI SZCSJ XVHZ CYS, LWM QM KL YH NIGJSC JKDSFYTGD JXKA HWXMA OWPP CNX LBY RWCEN.\n",
      "IHAIHA ZU HRI USJAKQ BVDCMNF FKTW UQCRQ DS CEQJ NMJ MZVLMRY PT ZSEZ HICCT CDFB BCO ZHONTO MMS BKUG OTY JEHY, XZV CAJV VD ZDRYO. EBN WX TJ ST CDVYRPCBJ HZ ZSND LLAYI LMFJ TTB YFE AGOV XQIIE QIUZ BYE, DUA FS OZ PC DKRYJA IKLADXZFG PNTG XEEFF NWFB TKG SCQ TMIQF.\n",
      "IENIEN XZ ZLR RUCNYN XVXVEFU NTER MQUCK AK CZDE THM QQIESUC SL WWXP DLJOJ CWEB DWD RLTNPE UXS QASJ ESB DWNA, WQL VGCN EN BSKPZ. XUB WU OM BU PTPXFLDUZ DF OPGZ ZWGUH VBAT XMA BJG VLNY HFNZB RLDW RDT, YBG CL MY GM YAQESW KQHQAAQDI BJRE VJVCM HXPL JGU FVS YJUHC.\n",
      "WPPWPP AW XNS LADAJY VNYQSFY XDIU LYBLI YM JVOC QRO JLMYJJX LK XXPU NYBCG GAPQ QGD OHCKML OWU DNNK CAW IKAU, NUM VBBC EY EGTOP. PRW GY GG ZN PSMZCMUEG LL GJYU VVCEA ZLRM GKW LKF MSXG PFVCA ZERY SKT, JYX JF ZS MP PAFSZT SBHCCZGIO JMIG THRUG WUXS NHF GFC FCAOI.\n",
      "FULFUL TE UCB WJAZET TTSOYTE SUGA BQWUC MM TBUL WDJ WWGVMMQ RT BYHU PJJAX AYTJ CLU XXLLNQ BBD MERL EOR HLXF, VKK KIUW EQ MVFQF. PQR SS XL BH UQZKIELPT UV CYRW ONTNI IFGA YZP JRI RHWO VBYZH REAB CKC, VDT WG DF GS SIYWNL FYZHLDCVZ CSUG NJQDH ZYEG NRB YRN WNLOM.\n",
      "RZYRZY JV MGS UUIFGQ RPKCRVF MZCO LLFVK CY PJWE CIC RTKITWV HO OQWE BVSCN WVYH UTQ QSVXOB YAS ZBSE RRA OJVJ, MJK DQHA BA QGBDZ. PWI ID RF FQ VEUMJVFBN HX QZEH ZZZHX YUBJ FQG AFU OMBA JDPFC UODN GNC, QAR WP QZ IT RMYETO CDFIMRXNW YWAE XGMIM OKXR SBQ DAG UVGBG.\n",
      "KIKKIK YC KXG YYWZBU FVNPNIS UVVW YWCEY TC UXRC CNJ XJLAJTQ RF PHUR GGZNB UDGN TTU NADDNC GSD CLLX TLK FQPZ, VLZ CVHR OK EFCKE. GVB HD ZM TR FLQCWPGUA AP XPTU YXSDB CHYK DRO XVQ YCII XPACG ENCR SRX, GLJ VO LS CD AWCCKQ EFAZWDNYD XBJQ ZZADM UKXE OHY AWO YWUPK.\n",
      "GIBGIB OA XYC AOQESP JGNFRXR ELBJ ELYOG GN MUPA CIJ VLDSEUI BQ RPDK YCIAM EZTT QKF NQXKGY MVV ZJWJ NBG USSV, XHJ SBGZ MB CJBPA. RTO VJ BB FD MCPPZFHCP AD HJFR HHGYK FITH WME KQF OINH HQMSO AYFB TQV, FSB VK QU BS DREZSO BFPKQPIFF ILZB OITOY ATQS LCG MZH UVQAS.\n",
      "XVYXVY DF PIZ CYXXRP HHZAVRU QXBG NLWAE IH IQXK NVP YHHFYOY OI EMYY ZXGVQ UVIX YMI QWYAQN JNI YBAS RQD UNHZ, JLS QUDC UW QRTPG. OXN QD KS SS WGBWYRIYH II KRKN HDHPP GSGS CQP XNT NIKH ELPNP KXEM UOD, WJJ HH BS BB XAWPAD QZVBGNPGY GEZJ LVUDK ISXE OMR BXT ZKFIG.\n",
      "VIYVIY VY WYK XLWPIE POJEJVW MRXJ WSLHS AI VTTE NXL RVZWXDL TH QZDX NWZGI SAKN HTW DMSHKI CDK KGLG PAH OATE, BTM TIZW MV JGWQC. ALT TQ ZE NS NBEKJCXYM FE FRUS ECEOX HWPE TVP KCA BMFG JXKHR EULM WKO, TZO MC XN ZK LOVBWS MHANTLWZF QHZS KHIDF XNGB UPI BJH AOKBX.\n",
      "TBJTBJ SY ZYF EHKEJJ GADHDJQ KHXZ ZOJLW WE NVSI HQM MFOGELQ IN DYHN XXMZJ RCWL VXL LHXFRB KVU RLZU HCN PNQE, ZVZ DYOX HP VIQQS. TCP VJ LQ HO DSKCEKTLA MD LCAR YLXHF GDBQ JMW EKT OEFY PWKQS QNMT VIS, QIH XF IH YH AWUBYO OEKDJXDTT JTQR VWJII IXAB TSP LJU BJAQC.\n",
      "HQUHQU YR DWO RRKOUX ODZBVAE XMZC OPYEC PL QIUD RZB XPQBNLD QE ZSQT AZOYD LTUC BKF AWXYNA TLR VCIC VIP MZYQ, TCA WNWH UB YZKBC. EPY FY KZ OU ZDNLIPXPK CA JQCI TQICC COZX LNG MZS SYCL NXVER HFKQ CZC, DIQ NW NV ZL GWBQRR VBDKCZUZW TSLC MLZUQ RLXX JDV TKJ BMQZT.\n",
      "EGYEGY WN JOR XESMFB TNWGBJO MCFY PXHKG ZE MAJJ CHC JENTJPZ FW HNQX YOOLE SFSF IFX INXVZC KSB YCIO QMA ALSD, GPE RJIM VF DGFGR. NHI AT XU WL BPQMMKQLX OF PZME SCRVY IGYD IPF WJS FQXY FHCNN FGTN YWN, RFY CD TY CR JMWYXS JVTHLGIJW UTXG RDUDA ZZKU LSF ZFQ IHJYT.\n",
      "CPJCPJ XJ EQX GBWGRU HAMCDNV ZHDV FZMSF EG RPHJ WMO BPIQHGA YQ LUUK QFFJQ EKLK KTJ VTZHRA ZDH GQDK WRO TUCI, QOW WVEQ EW AZVBL. MDF HS NY TF WTVSTWHKV AK NOQI SWRZF TOUL USZ VUU XOYC RCWCG FBTN SXC, XWF MX VP ZE OQKEBC SSAYBEEQN AIBW GFKSM EOSY TNR SNB IFELA.\n",
      "BHPBHP ZV NKL JDMKHP UWIHPWB EHSK QNHDM TY PJUN ATT VQTVEKU ZG HECC AECXF COPG HLV ZUBFNE KEM GFRD KQJ TPIM, NRL WHYU HF KJGZX. KKK IC SG OO QDAPSDUKR LN VFBY ABJVE CXOS YMC FCF CGIE KVSHY EBRB ZAM, FBB YI UX RS YYWXUV KEXFKWNZZ NWIV IRQIH IIPV SEY TSR EHRIJ.\n",
      "THBTHB IC YMR PGFWXZ PQLCRFM EMKR LZQQJ KN SKMH SWL SNXGTJY FO YFSL BFUMW QQJK GTQ LAENUC VVB VGDS SCO GNIT, BAT FEJT JV WLBGN. FGD UI PD TB LMPYGFDPM HP QHRN CTTIN EMKR USL REC IBNV TMPWA OFCL AXY, OJR BS ZU YE ZJJSEN GDDANELKC OGXM MYLHP TNIV TVX UAB HBTBA.\n",
      "QUHQUH EM CDI TYWPGW FJCBMLF WLPC BZRJK QP MMIB IAK ATEGZVW LB VQZM LLISZ DNNG FGU GWLZGB OAQ TQXM GCT KLHI, XTC EXOV DV WAQFP. RMC AJ DJ WM GUFLKIFPT FE AJNZ ZHDON FJKR ZIU OAM RYTH PYXYG DVTC KOO, DEH OH QX XW YDAGRP NZCUKACFQ XKKK GDPOF NWRB VFA DVE AQKCY.\n",
      "FMRFMR IK GRE DBARKU YXHONLB PWUA YPZFF UE OARK MOF UCALEVJ TL JIFR NDVTI KQSL RMK HPKCFO BER KQIG KZE HFQY, USU KITQ ZU IPEEV. PZA TL WW OZ JNQTNXJRC TU FJMW YBOMP HPFI OVC VOJ POYQ TYMMW GPGX WXH, FIE JG MG UM CSWSTY KITAJRLRF CJUN HBCNE WJBV MDM PDY MSKGF.\n",
      "OMCOMC SP EBS LGOBXH OEYLRMX GPYK XDMZD DY QJMZ EMS FHEZBGV WA EKZS ZFNVC OSTU MIU PUFUQG JWY XAXW NBI XNNC, CNI TMGC ZQ PYDEZ. TTA QZ PQ PE PAAKDMFIQ QS TXMN TCPWG RDGE TYI YWE CWLB LWDUE ILNB NFO, LSG QV HW SG UAYKEB YMHHINERV NDXY MREUS XREW HBQ AZI CRUAJ.\n",
      "GOSGOS DZ HWE XCMUTE DPQVDYZ WZCE KDEJZ ZW ATYF BHS QTTHBDC EK RIRV YSTQG XCSU JRR JFZMGN DLQ ONQS LNK VJUF, QQC RIOT IY JZOYF. SWO ME RC GO USMIMJCYX VF OKQO JDIBG WWDV VHG BSN GWGO WEGBS QQWN NGM, RNN HR QA SW YDAZUY YOSUOATIK MOUZ AIIHD GUJD IZX UGP MBMME.\n",
      "XVYXVY DF PIZ CYXXRP HHZAVRU QXBG NLWAE IH IQXK NVP YHHFYOY OI EMYY ZXGVQ UVIX YMI QWYAQN JNI YBAS RQD UNHZ, JLS QUDC UW QRTPG. OXN QD KS SS WGBWYRIYH II KRKN HDHPP GSGS CQP XNT NIKH ELPNP KXEM UOD, WJJ HH BS BB XAWPAD QZVBGNPGY GEZJ LVUDK ISXE OMR BXT ZKFIG.\n",
      "NTRNTR AN YEL YHSTLA IELAPSN GLIO KUAHF AN RXBR CZN FPYZDAB UK APZR AJSVS MGWU JJM SXNVMB VNR VWWI OIN BJRP, LCW GBUL GG TUXXX. PGS YR TH LF MFUXGJHWZ NN ISZC SGADG BQIH UIU QWB MODO QXPRK WAAW YQH, WBF YO IQ ZC DJBUKQ MGGXLHSXS ALQN QJPRT HMKR XBT TKS OFCCF.\n",
      "EPSEPS RG HWZ BIEBTK FQJUTHC ZPCV XVFFD UI KOYA DBO HOFFJFA OF LEMT XMOYH NMPA CZS WGRMHZ OXD YHKK CVQ FGKP, FBA CVPG CD DWEUX. QLP LJ NS GE FNJAQILHX RQ SZPR KMJTH TVNS BRC HKW HGYS INRJM WMTR EAW, MDE LH OJ CR CQTIPG AITONHGSR BVBM OSICW ARNZ OZR VKA OIIAA.\n",
      "DSUDSU KM LPB ARROCY ENRZXNJ BEER DBCWP EJ PKNE JYJ SJJPUQI LW ROJC XGKQV ADLA ISI LEJNSM WGH BRFG JMD HTTC, AML JUVG UC EUUPU. LTA OR KY RW RKVWNWEDL YX LEVX ABTBX TELN TDE ROC NQFQ BIKJT NEWO NYQ, VXR HN PX QA IPXFFE YOVTDNGEC GTPN MPLOZ AWPH SKB UXE KQQIE.\n",
      "ISSISS AH KTD JDVOAI RAZVIPZ JJKJ MIYQA SG QNPS WNY XJYPQCD EN VRDW XXEPX AIKN VES TTHUEQ MZO MGXP QUJ GSNH, CEF MGSU AE NLQFN. YMV XB HX JA KCFINSQSV YW IBVT VHEUD QWSC SSK DCC SXVU YVFVO KYDQ QLF, ESA WK EU FQ XBSXZL DNHZDTKYF ZFDM QDROQ ELTT WTW CZO LNIOB.\n",
      "KOXKOX IC DXT JOEGOY DWROYCE JBCI QDCDC IG NYYQ RHW VQCICNJ VA GVNX PJDHD DKDF YIZ UXCEVW QPO YLLD XTL LJEI, JHI GGIP DA IDTGR. RQE BB GH OQ ADDCSTCYM QY LQGP SNIOK XPZO FGG KLE MRNR VKPIL ZXKT ZBM, YYV VH TK UG VGTTHM ITRLGRHYF RRMF ASSZD NXHL YDK IMN GZAZZ.\n",
      "LOILOI KP SVF HMEBCQ FCDAHCE ZJFV EPGNI TL ZMYC EJY YLKTLLR ZJ OKKK FNEIS NCSU CWX IEUEXV PKK TRBX BQC ATBV, WIT SVMZ FW BWDGP. OEU FS CW IB PTGWQXMRW YY VBUW CNJYE KHPN WBT CRX WYRA XOMRX ZDDZ DBU, AQF AO YT XN EORUHC OAXNPYFWA PEIO JUHNZ IHOI LSB BET XKMKD.\n",
      "SRPSRP RY ZLW MIVEFV AIFRLHL UQGG IXNSN WW DMRE GMZ RPRVHEC UH KWVF RMCQF PELW CNJ ICFHQJ JLR YRBK USV POQT, HCO AXAD BD MPRJS. DLB MQ HV GU GYRWYJPBA TY BSOW RTJUA QMDC XYU SCI QEBO TAHKP VHEV KLS, IXW UI WB NB SPLYXZ QYMBBXWTG YKFM QMUJY WGTQ YHU WVS HMFYK.\n"
     ]
    }
   ],
   "source": [
    "for p in possible_plaintext:\n",
    "  print(p)"
   ]
  },
  {
   "cell_type": "code",
   "execution_count": 24,
   "metadata": {},
   "outputs": [],
   "source": [
    "def score_plaintext(plaintext_list):\n",
    "  plaintext_scores = {}\n",
    "\n",
    "  for pt in plaintext_list:\n",
    "    plaintext_scores[pt] = caesar.score_frequencies(caesar.calculate_frequencies(pt))\n",
    "\n",
    "  return sorted(plaintext_scores.items(), key=lambda item: item[1])\n",
    "plaintext_scores_sorted = score_plaintext(possible_plaintext)"
   ]
  },
  {
   "cell_type": "code",
   "execution_count": 25,
   "metadata": {},
   "outputs": [],
   "source": [
    "possible_plaintext = []\n",
    "settings = product(reflectors, permutations(rotators, 3), possible_daily_keys)\n",
    "\n",
    "for setting in settings:\n",
    "    s = list(setting)\n",
    "    myE.reset(s[0], s[1][0], s[1][1], s[1][2], s[2][0], s[2][1], s[2][2])\n",
    "    possible_plaintext.append(''.join([myE.keypress(ciphertext[i]) for i in range(50)]))"
   ]
  },
  {
   "cell_type": "code",
   "execution_count": 27,
   "metadata": {},
   "outputs": [
    {
     "data": {
      "text/plain": [
       "('TPMCFI NEE EG HNS DRS IAYA IU ETNT KHVZK ACEO DOQ ', 106.1)"
      ]
     },
     "execution_count": 27,
     "metadata": {},
     "output_type": "execute_result"
    }
   ],
   "source": [
    "plaintext_scores_sorted = score_plaintext(possible_plaintext)\n",
    "plaintext_scores_sorted[0]"
   ]
  }
 ],
 "metadata": {
  "kernelspec": {
   "display_name": "Python 3 (ipykernel)",
   "language": "python",
   "name": "python3"
  },
  "language_info": {
   "codemirror_mode": {
    "name": "ipython",
    "version": 3
   },
   "file_extension": ".py",
   "mimetype": "text/x-python",
   "name": "python",
   "nbconvert_exporter": "python",
   "pygments_lexer": "ipython3",
   "version": "3.12.6"
  }
 },
 "nbformat": 4,
 "nbformat_minor": 4
}
