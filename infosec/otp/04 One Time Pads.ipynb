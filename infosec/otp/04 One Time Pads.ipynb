{
 "cells": [
  {
   "cell_type": "markdown",
   "metadata": {},
   "source": [
    "# The \"Perfect\" Cipher - One Time Pads\n",
    "\n",
    "After WWI died down, us Americans finally made a significant contribution to the field of cryptography. (Cheeky note: it must have been a Brit' like Singh who wrote that first sentence, because us Americans did some incredible code-making and code-breaking work in WWII). Anyway, the Americans found that one of the only real weaknesses of the Vigenére Cipher was that the key was used reptitively, allowing a cryptanalyst to look for patterns and then perform frequency analysis. But what if the key was really long. What if it was really, really long? The longer the key, the smaller sample that cryptanalysts would have for frequency analysis. What if we made the key the same length as the plaintext? Then there would be absolutely no patterns and the ciphertext would be perfectly secure.\n",
    "\n",
    "Early One Time Pad Ciphers used a long key that was created from dictionary words. As time went on, the cryptanalysts discovered new ways to crack the Onetime Pads and cryptographers found new ways to secure them."
   ]
  },
  {
   "cell_type": "code",
   "execution_count": 1,
   "metadata": {},
   "outputs": [
    {
     "name": "stdout",
     "output_type": "stream",
     "text": [
      "zvwx gh l mxqdmv wiqeitr mrfflpehg wqlf h eiw rj auslz fmryvy\n"
     ]
    }
   ],
   "source": [
    "import vigenere\n",
    "plaintext = \"This is a secret message encrypted with a key of equal length\"\n",
    "longerkey = \"GoofyPlutoMickeyMinnieDonaldDaisyHueyDeweyLouieScroogeClarice\"\n",
    "\n",
    "ciphertext = vigenere.encrypt(plaintext, longerkey)\n",
    "print(ciphertext)"
   ]
  },
  {
   "cell_type": "code",
   "execution_count": 2,
   "metadata": {},
   "outputs": [
    {
     "data": {
      "text/plain": [
       "{}"
      ]
     },
     "execution_count": 2,
     "metadata": {},
     "output_type": "execute_result"
    }
   ],
   "source": [
    "sequences = vigenere.sequence_lists(plaintext, 4)\n",
    "spans     = vigenere.sequence_span_lengths(sequences)\n",
    "factors   = vigenere.sequence_length_factors(spans)\n",
    "factors"
   ]
  },
  {
   "cell_type": "code",
   "execution_count": null,
   "metadata": {},
   "outputs": [],
   "source": []
  },
  {
   "cell_type": "markdown",
   "metadata": {},
   "source": [
    "The previous example was too short to really be a good example, but if it had been longer, and if the key had been equally long, it would not have had any significant patterns to analyze. I didn't make the message any longer because it's hard to come up with a really long key. This was one of the problems with One Time Pads: how do you create the really long keys and how do you transfer them to a friend? You could use the text from a book or newspaper as the key, and many times, this was how they did it."
   ]
  },
  {
   "cell_type": "markdown",
   "metadata": {},
   "source": [
    "## The XOR Operator\n",
    "\n",
    "The book introduces the original One Time Pad cipher which works on alphabetic text. But there's a much better, modern equivalent operates on binary data. This allows us to encrypt any generic type of data.\n",
    "\n",
    "One Time Pad Ciphers started out as an extension of the Vigenére Cipher, but eventually cryptographers wanted to encrypt data that was not alphanumeric. They also wanted to use keys that had a wider range of values than the alphabet, with it's 26 possibilities (for English). The solution was to encrypt using the XOR operator on binary data.\n",
    "\n",
    "XOR is the ultimate cryptographic operation. It operates at the bit level, so it can encrypt data and text. But what makes XOR so handy for encryption is that applying the same operation twice in a row reverts the data back to it's original form. You can see how this works in the truth table below.\n",
    "\n",
    "|input|key|encoded|key|output|\n",
    "|:---:|:-:|:-----:|:-:|:----:|\n",
    "|0|0|0|0|0|\n",
    "|0|1|1|1|0|\n",
    "|1|0|1|0|1|\n",
    "|1|1|0|1|1|"
   ]
  },
  {
   "cell_type": "code",
   "execution_count": 3,
   "metadata": {},
   "outputs": [
    {
     "name": "stdout",
     "output_type": "stream",
     "text": [
      "b'.\\x00\\x01L\\x0c\\x18\\x0eL\\x1a\\x1f\\x14\\x0cO\\x11\\x0f\\x01R\\x1f\\x18L\\x07V\\x1a\\\\\\x19\\x07\\x0b\\x13N\\x1e\\x19\\x0eI\\x0b\\x16\\x19\\x0e\\x12\\x1a\\x0bJ\\x02\\r\\x03\\x0c\\x03\\x19'\n",
      "b'The one time pad is a truely unbreakable cipher'\n"
     ]
    }
   ],
   "source": [
    "def one_time_pad(data, key):                                  # brings together parallel items from data and key\n",
    "    paired  = [(d,k) for d,k in zip(data,key)]                #   (1st&1st, 2nd&2nd, 3rd&3rd, ...)\n",
    "    crypted = [int.to_bytes(d^k, 1, 'big') for d,k in paired] # ^ operator performs the XOR\n",
    "    crypted = b\"\".join(crypted)                               # join the items in the list back together into a string\n",
    "    return crypted\n",
    "\n",
    "message = b\"The one time pad is a truely unbreakable cipher\"\n",
    "otp_key = b\"zhdlcvklnvyioanervklfvn.lbgjnkwl;nwropvnjadsdfk\"  # <-- random mashing of the keyboard\n",
    "\n",
    "ciphertext1 = one_time_pad(message, otp_key)\n",
    "print(ciphertext1)\n",
    "\n",
    "plaintext1 = one_time_pad(ciphertext1, otp_key)\n",
    "print(plaintext1)"
   ]
  },
  {
   "cell_type": "code",
   "execution_count": null,
   "metadata": {},
   "outputs": [],
   "source": []
  },
  {
   "cell_type": "markdown",
   "metadata": {},
   "source": [
    "In the python language, XOR works on numbers but not on bit strings. We'll find it's easier to work with the data if we convert it from a string to a list of 1s and 0s. So let's write functions to convert back and forth.\n",
    "\n",
    "#### Strings to Bit Arrays"
   ]
  },
  {
   "cell_type": "code",
   "execution_count": 4,
   "metadata": {},
   "outputs": [
    {
     "name": "stdout",
     "output_type": "stream",
     "text": [
      "b'otp'\n",
      "111 0x6f 0b1101111\n",
      "116 0x74 0b1110100\n",
      "112 0x70 0b1110000\n"
     ]
    }
   ],
   "source": [
    "test = b\"otp\"\n",
    "\n",
    "print(test)\n",
    "print(test[0], hex(test[0]), bin(test[0]))\n",
    "print(test[1], hex(test[1]), bin(test[1]))\n",
    "print(test[2], hex(test[2]), bin(test[2]))\n",
    "\n"
   ]
  },
  {
   "cell_type": "code",
   "execution_count": 5,
   "metadata": {},
   "outputs": [
    {
     "data": {
      "text/plain": [
       "[0, 1, 0, 0, 0, 0, 0, 1, 1, 1, 0, 0, 1, 1, 0, 1]"
      ]
     },
     "execution_count": 5,
     "metadata": {},
     "output_type": "execute_result"
    }
   ],
   "source": [
    "def bytes_to_bit_array(byte_string):\n",
    "    bit_array = []\n",
    "    for i in byte_string:\n",
    "        # convert to binary, remove the '0b' notation from front, and retain any leading 0s to make 8 bits \n",
    "        # (python auto-truncates which we don't want)\n",
    "        for j in bin(i)[2:].zfill(8): \n",
    "            bit_array.append(int(j))  # cast the binary string to int\n",
    "    return bit_array\n",
    "\n",
    "ex = b\"A\\xcd\"\n",
    "bytes_to_bit_array(ex)"
   ]
  },
  {
   "cell_type": "code",
   "execution_count": null,
   "metadata": {},
   "outputs": [],
   "source": []
  },
  {
   "cell_type": "markdown",
   "metadata": {},
   "source": [
    "#### Bit Arrays to Strings\n",
    "\n",
    "Now let's code to go back the other way"
   ]
  },
  {
   "cell_type": "code",
   "execution_count": 6,
   "metadata": {},
   "outputs": [],
   "source": [
    "test = [0, 1, 1, 0, 1, 1, 1, 1, 0, 1, 1, 1, 0, 1, 0, 0, 0, 1, 1, 1, 0, 0, 0, 0]\n",
    "\n"
   ]
  },
  {
   "cell_type": "code",
   "execution_count": 7,
   "metadata": {},
   "outputs": [
    {
     "data": {
      "text/plain": [
       "'otp'"
      ]
     },
     "execution_count": 7,
     "metadata": {},
     "output_type": "execute_result"
    }
   ],
   "source": [
    "def bit_array_to_bytes(bit_array):\n",
    "    bytes = []\n",
    "    for i in range(0,len(bit_array),8):\n",
    "        # get 8 bits and convert them to string\n",
    "        str_chunk = ''.join([str(b) for b in bit_array[i:i+8]])\n",
    "        # convert str to binary (base2 int), then convert binary to char\n",
    "        hex_chunk = chr(int(str_chunk,2))\n",
    "        bytes.append(hex_chunk)\n",
    "    \n",
    "    return ''.join(bytes)\n",
    "\n",
    "bit_array_to_bytes(test)"
   ]
  },
  {
   "cell_type": "code",
   "execution_count": null,
   "metadata": {},
   "outputs": [],
   "source": []
  },
  {
   "cell_type": "markdown",
   "metadata": {},
   "source": [
    "#### Back to the OTP"
   ]
  },
  {
   "cell_type": "code",
   "execution_count": 8,
   "metadata": {},
   "outputs": [],
   "source": [
    "def one_time_pad(data, key):\n",
    "    \n",
    "    bit_array = bytes_to_bit_array(data)\n",
    "    key_array = bytes_to_bit_array(key)\n",
    "    \n",
    "    paired  = [(d,k) for d,k in zip(bit_array,key_array)]\n",
    "    crypted = [d^k for d,k in paired]\n",
    "    \n",
    "    crypted = bit_array_to_bytes(crypted)\n",
    "    return crypted"
   ]
  },
  {
   "cell_type": "code",
   "execution_count": 9,
   "metadata": {},
   "outputs": [
    {
     "name": "stdout",
     "output_type": "stream",
     "text": [
      "4\u0007\u0010L\f\u0018\u0007\u0015N\u001f\n",
      "\u0005\u0002N\u001e\t\u0001S\u0007\u000f\u001b\u001f\u0000\u001b\u001b\u0015\u000f\u0001M 1\u0003A+5c9>\u0000\u001a\u0013\n",
      "ES \u0002\u0005I^\u0000\u000b\u0018KIC\\\u001e\t\u0019\u0007I?%7\u001a\u0006Y_\u0013N\u0019\u001aHL8:/\u000b\u0018\n"
     ]
    }
   ],
   "source": [
    "message = b\"Not only is it impossible to break, but the ciphertext can be turned into every single possible plaintext\"\n",
    "otp_key = b\"zhdlcvklnvyioanervklfvn.lbgjnkwl;nwropvnjadsdfkweiopwumCPmaIPCMKrtvne:Nvji;vnj2i05pnubiOJDio;3vniv)%VNJsl\"\n",
    "\n",
    "ciphertext = one_time_pad(message, otp_key)\n",
    "print(ciphertext)"
   ]
  },
  {
   "cell_type": "code",
   "execution_count": 10,
   "metadata": {},
   "outputs": [
    {
     "ename": "TypeError",
     "evalue": "'str' object cannot be interpreted as an integer",
     "output_type": "error",
     "traceback": [
      "\u001b[0;31m---------------------------------------------------------------------------\u001b[0m",
      "\u001b[0;31mTypeError\u001b[0m                                 Traceback (most recent call last)",
      "Cell \u001b[0;32mIn[10], line 1\u001b[0m\n\u001b[0;32m----> 1\u001b[0m \u001b[43mone_time_pad\u001b[49m\u001b[43m(\u001b[49m\u001b[43mciphertext\u001b[49m\u001b[43m,\u001b[49m\u001b[43m \u001b[49m\u001b[43motp_key\u001b[49m\u001b[43m)\u001b[49m\n",
      "Cell \u001b[0;32mIn[8], line 3\u001b[0m, in \u001b[0;36mone_time_pad\u001b[0;34m(data, key)\u001b[0m\n\u001b[1;32m      1\u001b[0m \u001b[38;5;28;01mdef\u001b[39;00m \u001b[38;5;21mone_time_pad\u001b[39m(data, key):\n\u001b[0;32m----> 3\u001b[0m     bit_array \u001b[38;5;241m=\u001b[39m \u001b[43mbytes_to_bit_array\u001b[49m\u001b[43m(\u001b[49m\u001b[43mdata\u001b[49m\u001b[43m)\u001b[49m\n\u001b[1;32m      4\u001b[0m     key_array \u001b[38;5;241m=\u001b[39m bytes_to_bit_array(key)\n\u001b[1;32m      6\u001b[0m     paired  \u001b[38;5;241m=\u001b[39m [(d,k) \u001b[38;5;28;01mfor\u001b[39;00m d,k \u001b[38;5;129;01min\u001b[39;00m \u001b[38;5;28mzip\u001b[39m(bit_array,key_array)]\n",
      "Cell \u001b[0;32mIn[5], line 6\u001b[0m, in \u001b[0;36mbytes_to_bit_array\u001b[0;34m(byte_string)\u001b[0m\n\u001b[1;32m      2\u001b[0m bit_array \u001b[38;5;241m=\u001b[39m []\n\u001b[1;32m      3\u001b[0m \u001b[38;5;28;01mfor\u001b[39;00m i \u001b[38;5;129;01min\u001b[39;00m byte_string:\n\u001b[1;32m      4\u001b[0m     \u001b[38;5;66;03m# convert to binary, remove the '0b' notation from front, and retain any leading 0s to make 8 bits \u001b[39;00m\n\u001b[1;32m      5\u001b[0m     \u001b[38;5;66;03m# (python auto-truncates which we don't want)\u001b[39;00m\n\u001b[0;32m----> 6\u001b[0m     \u001b[38;5;28;01mfor\u001b[39;00m j \u001b[38;5;129;01min\u001b[39;00m \u001b[38;5;28;43mbin\u001b[39;49m\u001b[43m(\u001b[49m\u001b[43mi\u001b[49m\u001b[43m)\u001b[49m[\u001b[38;5;241m2\u001b[39m:]\u001b[38;5;241m.\u001b[39mzfill(\u001b[38;5;241m8\u001b[39m): \n\u001b[1;32m      7\u001b[0m         bit_array\u001b[38;5;241m.\u001b[39mappend(\u001b[38;5;28mint\u001b[39m(j))  \u001b[38;5;66;03m# cast the binary string to int\u001b[39;00m\n\u001b[1;32m      8\u001b[0m \u001b[38;5;28;01mreturn\u001b[39;00m bit_array\n",
      "\u001b[0;31mTypeError\u001b[0m: 'str' object cannot be interpreted as an integer"
     ]
    }
   ],
   "source": [
    "one_time_pad(ciphertext, otp_key)"
   ]
  },
  {
   "cell_type": "code",
   "execution_count": null,
   "metadata": {},
   "outputs": [],
   "source": []
  },
  {
   "cell_type": "markdown",
   "metadata": {},
   "source": [
    "## One Time Pad and Plausible Deniability\n",
    "\n",
    "Because the XOR operation can turn any bit into any other bit, depending on the key, the beauty of the One Time Pad is that the ciphertext can be turned into every possible plaintext! So, for the given ciphertext, you could have one key that turns it back into the real plaintext and a whole suite of others that turn it into fake plaintexts. For someone involved in a particularly sensitive and dangerous mission, this allows him to create a fake key that would decrypt the ciphertext to an alternate message. It would probably need to be a particularly damning plaintext, but not one that is quite as serious an offense as the real plaintext."
   ]
  },
  {
   "cell_type": "code",
   "execution_count": null,
   "metadata": {},
   "outputs": [],
   "source": [
    "#ciphertext ^ fakekey = result"
   ]
  },
  {
   "cell_type": "markdown",
   "metadata": {},
   "source": [
    "## Homework\n",
    "\n",
    "Create four One Time Pad XOR keys that decrypts the previous ciphertext to the four \"fake\" messages below.\n",
    "\n",
    "```\n",
    "message = b\"Not only is it impossible to break, but the ciphertext can be turned into every single possible plaintext\"\n",
    "otp_key = b\"zhdlcvklnvyioanervklfvn.lbgjnkwl;nwropvnjadsdfkweiopwumCPmaIPCMKrtvne:Nvji;vnj2i05pnubiOJDio;3vniv)%VNJsl\"\n",
    "\n",
    "ciphertext = one_time_pad(message, otp_key)\n",
    "print(ciphertext)\n",
    "\n",
    "output1 = b\"This XOR operation allows you to turn any sequence of bits into any other sequence of bits, based only on\"\n",
    "output2 = b\"It was the best of times, it was the worst of times, it was the age of wisdom, it was the age of foolishn\"\n",
    "output3 = b\"ess, it was the epoch of belief, it was the epoch of incredulity, it was the season of Light, it was the \"\n",
    "output4 = b\"season of Darkness, it was the spring of hope, it was the winter of despair, XXXXXXXXXXXXXXXXXXXXXXXXXXXX\"\n",
    "```\n",
    "\n",
    "### Grading\n",
    "\n",
    "This homework is worth 10 points.\n",
    "\n",
    "### Turn-In\n",
    "\n",
    "Submit the three One Time Pad XOR keys via Canvas. The format does not matter: you can put them in the submission text or attach them as files. Do not worry about any particular naming scheme."
   ]
  },
  {
   "cell_type": "code",
   "execution_count": 1,
   "metadata": {},
   "outputs": [],
   "source": [
    "import otp"
   ]
  },
  {
   "cell_type": "code",
   "execution_count": 4,
   "metadata": {},
   "outputs": [
    {
     "name": "stdout",
     "output_type": "stream",
     "text": [
      "b'4\\x07\\x10L\\x0c\\x18\\x07\\x15N\\x1f\\nI\\x06\\x15N\\x0c\\x1f\\x06\\x04\\x1f\\x15\\x1f\\x0cB\\tB\\x13\\x05N\\t\\x05\\tZ\\x05[R\\r\\x05\\x02N\\x1e\\t\\x01S\\x07\\x0f\\x1b\\x1f\\x00\\x1b\\x1b\\x15\\x0f\\x01M 1\\x03A+5c9>\\x00\\x1a\\x13\\nES \\x02\\x05I^\\x00\\x0b\\x18KIC\\\\\\x1e\\t\\x19\\x07I?%7\\x1a\\x06Y_\\x13N\\x19\\x1aHL8:/\\x0b\\x18'\n",
      "b'\\x1a\\x07\\x1dSO6#+\\x00\\x06\\x03E\\x1b\\x15T\\x00\\x02\\x1eO\\x12\\x1f\\x05\\r\\x1b\\x16\\x00\\r\\x00UB\\x06\\nA\\x1fYR\\x0cU\\x15N\\rH\\x16E\\x12\\x1c\\x15\\x06\\x06\\x17T\\n\\x1eTB\\n\\x15\\x1d\\x00\\x0b\\x0bT\\x1bU\\x13\\x00\\x1cDO\\x1d\\x06\\x11\\x1d\\x00\\x16\\x13\\x14\\x07\\x1cN\\x10\\x0cN\\x08\\nEB\\x19\\x1b\\x00_I\\x00\\r\\x16E\\x14L\\x0e\\x07\\x02\\rE\\x17\\x1a'\n",
      "\u0000UB\u0006O6#+\u0000\u0006\u0003E\u001b\u0015T\u0000\u0002\u001eO\u0012\u001f\u0005\n",
      "H\u0016E\u0012\u001c\u0015\u0006\u0006\u0017T\n",
      "\u001eTB\n",
      "\u0015\u001d\u0000\u000b\u000bT\u001bU\u0013\u0000\u001cDO\u001d\u0006\u0011\u001d\u0000\u0016\u0013\u0014\u0007\u001cN\u0010\f\n",
      "E\u0017\u001aL\u000e\u0007\u0002\u0000\n"
     ]
    }
   ],
   "source": [
    "message = b\"Not only is it impossible to break, but the ciphertext can be turned into every single possible plaintext\"\n",
    "otp_key = b\"zhdlcvklnvyioanervklfvn.lbgjnkwl;nwropvnjadsdfkweiopwumCPmaIPCMKrtvne:Nvji;vnj2i05pnubiOJDio;3vniv)%VNJsl\"\n",
    "ciphertext = otp.crypt(message, otp_key)\n",
    "print(ciphertext)\n",
    "\n",
    "output1 = b\"This XOR operation allows you to turn any sequence of bits into any other sequence of bits, based only on\"\n",
    "output2 = b\"It was the best of times, it was the worst of times, it was the age of wisdom, it was the age of foolishn\"\n",
    "output3 = b\"ess, it was the epoch of belief, it was the epoch of incredulity, it was the season of Light, it was the \"\n",
    "output4 = b\"season of Darkness, it was the spring of hope, it was the winter of despair, XXXXXXXXXXXXXXXXXXXXXXXXXXXX\"\n",
    "\n",
    "fakekey = otp.crypt(message, output1)\n",
    "print(fakekey)\n",
    "print(fakekey.decode(\"ascii\"))\n",
    "# print(otp.crypt(message, fakekey))"
   ]
  }
 ],
 "metadata": {
  "kernelspec": {
   "display_name": "Python 3 (ipykernel)",
   "language": "python",
   "name": "python3"
  },
  "language_info": {
   "codemirror_mode": {
    "name": "ipython",
    "version": 3
   },
   "file_extension": ".py",
   "mimetype": "text/x-python",
   "name": "python",
   "nbconvert_exporter": "python",
   "pygments_lexer": "ipython3",
   "version": "3.12.5"
  }
 },
 "nbformat": 4,
 "nbformat_minor": 4
}
