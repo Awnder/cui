{
 "cells": [
  {
   "cell_type": "code",
   "execution_count": 4,
   "metadata": {},
   "outputs": [],
   "source": [
    "import hashlib\n",
    "import sys"
   ]
  },
  {
   "cell_type": "code",
   "execution_count": 5,
   "metadata": {},
   "outputs": [],
   "source": [
    "buffer_size = 65536 # 64kb chunks\n",
    "\n",
    "md5 = hashlib.md5()\n",
    "sha1 = hashlib.sha1()\n"
   ]
  },
  {
   "cell_type": "code",
   "execution_count": 16,
   "metadata": {},
   "outputs": [],
   "source": [
    "filepathname = 'C:\\\\Windows\\\\system.ini'\n",
    "filepathname = 'testhash.txt'\n",
    "with open(filepathname, 'rb') as f:\n",
    "  while True:\n",
    "    data = f.read(buffer_size)\n",
    "    if not data:\n",
    "      break\n",
    "    md5.update(data)\n",
    "    sha1.update(data)"
   ]
  },
  {
   "cell_type": "code",
   "execution_count": 17,
   "metadata": {},
   "outputs": [
    {
     "name": "stdout",
     "output_type": "stream",
     "text": [
      "MD5: c5aea33d8a89fbee91ba16a9607d25e7\n",
      "SHA1: 7b4a6de5b79c879c642a1b583b95c963409dd550\n"
     ]
    }
   ],
   "source": [
    "print('MD5: {0}'.format(md5.hexdigest()))\n",
    "print('SHA1: {0}'.format(sha1.hexdigest()))"
   ]
  }
 ],
 "metadata": {
  "kernelspec": {
   "display_name": "Python 3",
   "language": "python",
   "name": "python3"
  },
  "language_info": {
   "codemirror_mode": {
    "name": "ipython",
    "version": 3
   },
   "file_extension": ".py",
   "mimetype": "text/x-python",
   "name": "python",
   "nbconvert_exporter": "python",
   "pygments_lexer": "ipython3",
   "version": "3.12.7"
  }
 },
 "nbformat": 4,
 "nbformat_minor": 2
}
