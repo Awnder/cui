{
 "cells": [
  {
   "cell_type": "markdown",
   "id": "620c7631",
   "metadata": {},
   "source": [
    "# 2023 Superbowl Score Predictor #\n",
    "\n",
    "This is a simple regression model to predict the Superbowl score. It uses a two-feature dataset from the 2023 regular season. Playoff results are not included."
   ]
  },
  {
   "cell_type": "code",
   "execution_count": 1,
   "id": "1a12ade7",
   "metadata": {},
   "outputs": [],
   "source": [
    "import numpy as np\n",
    "import pandas as pd\n",
    "import matplotlib.pyplot as plt\n",
    "from sklearn.preprocessing import MinMaxScaler, OneHotEncoder\n",
    "from sklearn.model_selection import train_test_split\n",
    "from sklearn.linear_model import LinearRegression\n",
    "from sklearn.metrics import mean_absolute_error"
   ]
  },
  {
   "cell_type": "code",
   "execution_count": null,
   "id": "d2b4f5cc",
   "metadata": {},
   "outputs": [],
   "source": []
  },
  {
   "cell_type": "markdown",
   "id": "5da22f3d",
   "metadata": {},
   "source": [
    "## Collecting and Normalizing Data ##\n",
    "\n",
    "For the purposes of this demonstration, we are going to breeze over data collection and use a local CSV file. The CSV file was created by hand, earlier in the semester, using 2023 data from the [NFL](https://nfl.com/stats) website.\n",
    "\n",
    "The data includes two input features that are on very different scales. The first feature is Opponent Points Against and it is the total number of points scored against our opponent for the entire year. Typical values are in the 300-400 range and higher numbers indicate that our opponent had a poor defense (so we would expect to score more often). The second feature is Opponent Turnovers and these values are in the 20-30 range. These numbers give the total number of times that our opponent's offense fumbled the ball or threw an interception. Higher numbers indicate that our offense should expect more posessions (so we would expect to score more often).\n",
    "\n",
    "The Points Against and Turnovers features are on different scales, which might cause our model to overemphasize the data with higher numbers. To avoid this, we will use a MinMaxScaler to normalize the data to a floating point number between 0-1, spreading the data out evenly between these values."
   ]
  },
  {
   "cell_type": "code",
   "execution_count": 3,
   "id": "a053b66b",
   "metadata": {},
   "outputs": [
    {
     "data": {
      "text/html": [
       "<div>\n",
       "<style scoped>\n",
       "    .dataframe tbody tr th:only-of-type {\n",
       "        vertical-align: middle;\n",
       "    }\n",
       "\n",
       "    .dataframe tbody tr th {\n",
       "        vertical-align: top;\n",
       "    }\n",
       "\n",
       "    .dataframe thead th {\n",
       "        text-align: right;\n",
       "    }\n",
       "</style>\n",
       "<table border=\"1\" class=\"dataframe\">\n",
       "  <thead>\n",
       "    <tr style=\"text-align: right;\">\n",
       "      <th></th>\n",
       "      <th>Team</th>\n",
       "      <th>Opponent Points Against</th>\n",
       "      <th>Opponent Turnovers</th>\n",
       "      <th>Points</th>\n",
       "    </tr>\n",
       "  </thead>\n",
       "  <tbody>\n",
       "    <tr>\n",
       "      <th>0</th>\n",
       "      <td>Chiefs</td>\n",
       "      <td>395</td>\n",
       "      <td>23</td>\n",
       "      <td>20</td>\n",
       "    </tr>\n",
       "    <tr>\n",
       "      <th>1</th>\n",
       "      <td>Chiefs</td>\n",
       "      <td>371</td>\n",
       "      <td>30</td>\n",
       "      <td>17</td>\n",
       "    </tr>\n",
       "    <tr>\n",
       "      <th>2</th>\n",
       "      <td>Chiefs</td>\n",
       "      <td>379</td>\n",
       "      <td>25</td>\n",
       "      <td>41</td>\n",
       "    </tr>\n",
       "    <tr>\n",
       "      <th>3</th>\n",
       "      <td>Chiefs</td>\n",
       "      <td>355</td>\n",
       "      <td>33</td>\n",
       "      <td>23</td>\n",
       "    </tr>\n",
       "    <tr>\n",
       "      <th>4</th>\n",
       "      <td>Chiefs</td>\n",
       "      <td>362</td>\n",
       "      <td>34</td>\n",
       "      <td>27</td>\n",
       "    </tr>\n",
       "  </tbody>\n",
       "</table>\n",
       "</div>"
      ],
      "text/plain": [
       "     Team  Opponent Points Against  Opponent Turnovers  Points\n",
       "0  Chiefs                      395                  23      20\n",
       "1  Chiefs                      371                  30      17\n",
       "2  Chiefs                      379                  25      41\n",
       "3  Chiefs                      355                  33      23\n",
       "4  Chiefs                      362                  34      27"
      ]
     },
     "execution_count": 3,
     "metadata": {},
     "output_type": "execute_result"
    }
   ],
   "source": [
    "df = pd.read_csv('sample_nfl_stats.csv')\n",
    "df.head()"
   ]
  },
  {
   "cell_type": "code",
   "execution_count": 4,
   "id": "bc7a77a1",
   "metadata": {},
   "outputs": [
    {
     "data": {
      "text/html": [
       "<div>\n",
       "<style scoped>\n",
       "    .dataframe tbody tr th:only-of-type {\n",
       "        vertical-align: middle;\n",
       "    }\n",
       "\n",
       "    .dataframe tbody tr th {\n",
       "        vertical-align: top;\n",
       "    }\n",
       "\n",
       "    .dataframe thead th {\n",
       "        text-align: right;\n",
       "    }\n",
       "</style>\n",
       "<table border=\"1\" class=\"dataframe\">\n",
       "  <thead>\n",
       "    <tr style=\"text-align: right;\">\n",
       "      <th></th>\n",
       "      <th>Team</th>\n",
       "      <th>OppPA</th>\n",
       "      <th>OppTO</th>\n",
       "      <th>Points</th>\n",
       "    </tr>\n",
       "  </thead>\n",
       "  <tbody>\n",
       "    <tr>\n",
       "      <th>0</th>\n",
       "      <td>Chiefs</td>\n",
       "      <td>395</td>\n",
       "      <td>23</td>\n",
       "      <td>20</td>\n",
       "    </tr>\n",
       "    <tr>\n",
       "      <th>1</th>\n",
       "      <td>Chiefs</td>\n",
       "      <td>371</td>\n",
       "      <td>30</td>\n",
       "      <td>17</td>\n",
       "    </tr>\n",
       "    <tr>\n",
       "      <th>2</th>\n",
       "      <td>Chiefs</td>\n",
       "      <td>379</td>\n",
       "      <td>25</td>\n",
       "      <td>41</td>\n",
       "    </tr>\n",
       "    <tr>\n",
       "      <th>3</th>\n",
       "      <td>Chiefs</td>\n",
       "      <td>355</td>\n",
       "      <td>33</td>\n",
       "      <td>23</td>\n",
       "    </tr>\n",
       "    <tr>\n",
       "      <th>4</th>\n",
       "      <td>Chiefs</td>\n",
       "      <td>362</td>\n",
       "      <td>34</td>\n",
       "      <td>27</td>\n",
       "    </tr>\n",
       "  </tbody>\n",
       "</table>\n",
       "</div>"
      ],
      "text/plain": [
       "     Team  OppPA  OppTO  Points\n",
       "0  Chiefs    395     23      20\n",
       "1  Chiefs    371     30      17\n",
       "2  Chiefs    379     25      41\n",
       "3  Chiefs    355     33      23\n",
       "4  Chiefs    362     34      27"
      ]
     },
     "execution_count": 4,
     "metadata": {},
     "output_type": "execute_result"
    }
   ],
   "source": [
    "df = df.rename(columns={'Opponent Points Against':'OppPA', 'Opponent Turnovers':'OppTO'})\n",
    "df.head()"
   ]
  },
  {
   "cell_type": "code",
   "execution_count": 5,
   "id": "3acd59fe",
   "metadata": {},
   "outputs": [
    {
     "data": {
      "text/html": [
       "<div>\n",
       "<style scoped>\n",
       "    .dataframe tbody tr th:only-of-type {\n",
       "        vertical-align: middle;\n",
       "    }\n",
       "\n",
       "    .dataframe tbody tr th {\n",
       "        vertical-align: top;\n",
       "    }\n",
       "\n",
       "    .dataframe thead th {\n",
       "        text-align: right;\n",
       "    }\n",
       "</style>\n",
       "<table border=\"1\" class=\"dataframe\">\n",
       "  <thead>\n",
       "    <tr style=\"text-align: right;\">\n",
       "      <th></th>\n",
       "      <th>Team</th>\n",
       "      <th>OppPA</th>\n",
       "      <th>OppTO</th>\n",
       "      <th>Points</th>\n",
       "    </tr>\n",
       "  </thead>\n",
       "  <tbody>\n",
       "    <tr>\n",
       "      <th>0</th>\n",
       "      <td>Chiefs</td>\n",
       "      <td>0.483193</td>\n",
       "      <td>0.333333</td>\n",
       "      <td>20</td>\n",
       "    </tr>\n",
       "    <tr>\n",
       "      <th>1</th>\n",
       "      <td>Chiefs</td>\n",
       "      <td>0.382353</td>\n",
       "      <td>0.666667</td>\n",
       "      <td>17</td>\n",
       "    </tr>\n",
       "    <tr>\n",
       "      <th>2</th>\n",
       "      <td>Chiefs</td>\n",
       "      <td>0.415966</td>\n",
       "      <td>0.428571</td>\n",
       "      <td>41</td>\n",
       "    </tr>\n",
       "    <tr>\n",
       "      <th>3</th>\n",
       "      <td>Chiefs</td>\n",
       "      <td>0.315126</td>\n",
       "      <td>0.809524</td>\n",
       "      <td>23</td>\n",
       "    </tr>\n",
       "    <tr>\n",
       "      <th>4</th>\n",
       "      <td>Chiefs</td>\n",
       "      <td>0.344538</td>\n",
       "      <td>0.857143</td>\n",
       "      <td>27</td>\n",
       "    </tr>\n",
       "  </tbody>\n",
       "</table>\n",
       "</div>"
      ],
      "text/plain": [
       "     Team     OppPA     OppTO  Points\n",
       "0  Chiefs  0.483193  0.333333      20\n",
       "1  Chiefs  0.382353  0.666667      17\n",
       "2  Chiefs  0.415966  0.428571      41\n",
       "3  Chiefs  0.315126  0.809524      23\n",
       "4  Chiefs  0.344538  0.857143      27"
      ]
     },
     "execution_count": 5,
     "metadata": {},
     "output_type": "execute_result"
    }
   ],
   "source": [
    "scaler = MinMaxScaler()\n",
    "df[['OppPA', 'OppTO']] = scaler.fit_transform(df[['OppPA', 'OppTO']])\n",
    "df.head()"
   ]
  },
  {
   "cell_type": "code",
   "execution_count": null,
   "id": "d33f9ec8",
   "metadata": {},
   "outputs": [],
   "source": []
  },
  {
   "cell_type": "markdown",
   "id": "952fb5e0",
   "metadata": {},
   "source": [
    "## Encoding Non-Numeric Features ##\n",
    "\n",
    "Notice that our model contains data for the Chiefs and the 49ers and these samples are differentiated from each other based on a string. These teams have different offenses and we want to make sure that our model keeps the teams separate in its calculations. One idea would be to separate the data and create two different models: one for the Chiefs and another for the 49ers. However, separating the data means that we lose datapoints. And the fact is, there is a football-is-football aspect to the game results that are common to all teams. So let's build one single model but use the \"Teams\" feature to account for the difference in rosters and coaching. But how do we use a string in a regression equation?\n",
    "\n",
    "One of the most common ways to account for categorical information in a machine learning model is using one-hot encoding. This encoding technique creates a binary feature for every possible string value. It assigns a 1 to whichever feature corresponds to the string value and a 0 for the other, non-matching features. So, if our data included all 32 NFL teams, we would transform the data from 1 feature with 32 values to 32 binary features. At some point, all of these features can produce \"The Curse of Dimensionality\" which slows down processing and leads to overfit. There are techniques to avoid TCD, but we will save those for later.\n",
    "\n",
    "There are other encoding techniques like ordinal encoding that simple assign a unique value to represent each category, while keeping the data within a single feature. This works well when there is a natural order to the data like (cold, cool, room temp, warm, hot) or (low, medium, high). But ordinal encoding can cause problems if the data has no underlying sequence, such as the case of football team names. "
   ]
  },
  {
   "cell_type": "code",
   "execution_count": 9,
   "id": "7cdf51dd",
   "metadata": {},
   "outputs": [
    {
     "name": "stdout",
     "output_type": "stream",
     "text": [
      "['Team_49ers' 'Team_Chiefs']\n",
      "[[0 1]\n",
      " [0 1]\n",
      " [0 1]]\n",
      "...\n",
      "[[1 0]\n",
      " [1 0]\n",
      " [1 0]]\n"
     ]
    }
   ],
   "source": [
    "# takes every possible feature and makes distinct features identifers (0,1,2,3...) -> (49ers, chiefs, bears...)\n",
    "encoder = OneHotEncoder(sparse_output=False, dtype=np.uint8)\n",
    "encoded = encoder.fit_transform(df[['Team']]) # what are the identifiers\n",
    "columns = encoder.get_feature_names_out(['Team']) # what does the column mean (the team)\n",
    "# \n",
    "\n",
    "print(columns)\n",
    "print(encoded[:3])\n",
    "print('...')\n",
    "print(encoded[-3:])"
   ]
  },
  {
   "cell_type": "code",
   "execution_count": 7,
   "id": "5ff50c9d",
   "metadata": {},
   "outputs": [
    {
     "data": {
      "text/html": [
       "<div>\n",
       "<style scoped>\n",
       "    .dataframe tbody tr th:only-of-type {\n",
       "        vertical-align: middle;\n",
       "    }\n",
       "\n",
       "    .dataframe tbody tr th {\n",
       "        vertical-align: top;\n",
       "    }\n",
       "\n",
       "    .dataframe thead th {\n",
       "        text-align: right;\n",
       "    }\n",
       "</style>\n",
       "<table border=\"1\" class=\"dataframe\">\n",
       "  <thead>\n",
       "    <tr style=\"text-align: right;\">\n",
       "      <th></th>\n",
       "      <th>Team_49ers</th>\n",
       "      <th>Team_Chiefs</th>\n",
       "    </tr>\n",
       "  </thead>\n",
       "  <tbody>\n",
       "    <tr>\n",
       "      <th>0</th>\n",
       "      <td>0</td>\n",
       "      <td>1</td>\n",
       "    </tr>\n",
       "    <tr>\n",
       "      <th>1</th>\n",
       "      <td>0</td>\n",
       "      <td>1</td>\n",
       "    </tr>\n",
       "    <tr>\n",
       "      <th>2</th>\n",
       "      <td>0</td>\n",
       "      <td>1</td>\n",
       "    </tr>\n",
       "    <tr>\n",
       "      <th>3</th>\n",
       "      <td>0</td>\n",
       "      <td>1</td>\n",
       "    </tr>\n",
       "    <tr>\n",
       "      <th>4</th>\n",
       "      <td>0</td>\n",
       "      <td>1</td>\n",
       "    </tr>\n",
       "  </tbody>\n",
       "</table>\n",
       "</div>"
      ],
      "text/plain": [
       "   Team_49ers  Team_Chiefs\n",
       "0           0            1\n",
       "1           0            1\n",
       "2           0            1\n",
       "3           0            1\n",
       "4           0            1"
      ]
     },
     "execution_count": 7,
     "metadata": {},
     "output_type": "execute_result"
    }
   ],
   "source": [
    "encoded = pd.DataFrame(encoded, columns=columns)\n",
    "encoded.head()"
   ]
  },
  {
   "cell_type": "code",
   "execution_count": 8,
   "id": "8392798f",
   "metadata": {},
   "outputs": [
    {
     "data": {
      "text/html": [
       "<div>\n",
       "<style scoped>\n",
       "    .dataframe tbody tr th:only-of-type {\n",
       "        vertical-align: middle;\n",
       "    }\n",
       "\n",
       "    .dataframe tbody tr th {\n",
       "        vertical-align: top;\n",
       "    }\n",
       "\n",
       "    .dataframe thead th {\n",
       "        text-align: right;\n",
       "    }\n",
       "</style>\n",
       "<table border=\"1\" class=\"dataframe\">\n",
       "  <thead>\n",
       "    <tr style=\"text-align: right;\">\n",
       "      <th></th>\n",
       "      <th>Team</th>\n",
       "      <th>OppPA</th>\n",
       "      <th>OppTO</th>\n",
       "      <th>Points</th>\n",
       "      <th>Team_49ers</th>\n",
       "      <th>Team_Chiefs</th>\n",
       "    </tr>\n",
       "  </thead>\n",
       "  <tbody>\n",
       "    <tr>\n",
       "      <th>0</th>\n",
       "      <td>Chiefs</td>\n",
       "      <td>0.483193</td>\n",
       "      <td>0.333333</td>\n",
       "      <td>20</td>\n",
       "      <td>0</td>\n",
       "      <td>1</td>\n",
       "    </tr>\n",
       "    <tr>\n",
       "      <th>1</th>\n",
       "      <td>Chiefs</td>\n",
       "      <td>0.382353</td>\n",
       "      <td>0.666667</td>\n",
       "      <td>17</td>\n",
       "      <td>0</td>\n",
       "      <td>1</td>\n",
       "    </tr>\n",
       "    <tr>\n",
       "      <th>2</th>\n",
       "      <td>Chiefs</td>\n",
       "      <td>0.415966</td>\n",
       "      <td>0.428571</td>\n",
       "      <td>41</td>\n",
       "      <td>0</td>\n",
       "      <td>1</td>\n",
       "    </tr>\n",
       "    <tr>\n",
       "      <th>3</th>\n",
       "      <td>Chiefs</td>\n",
       "      <td>0.315126</td>\n",
       "      <td>0.809524</td>\n",
       "      <td>23</td>\n",
       "      <td>0</td>\n",
       "      <td>1</td>\n",
       "    </tr>\n",
       "    <tr>\n",
       "      <th>4</th>\n",
       "      <td>Chiefs</td>\n",
       "      <td>0.344538</td>\n",
       "      <td>0.857143</td>\n",
       "      <td>27</td>\n",
       "      <td>0</td>\n",
       "      <td>1</td>\n",
       "    </tr>\n",
       "  </tbody>\n",
       "</table>\n",
       "</div>"
      ],
      "text/plain": [
       "     Team     OppPA     OppTO  Points  Team_49ers  Team_Chiefs\n",
       "0  Chiefs  0.483193  0.333333      20           0            1\n",
       "1  Chiefs  0.382353  0.666667      17           0            1\n",
       "2  Chiefs  0.415966  0.428571      41           0            1\n",
       "3  Chiefs  0.315126  0.809524      23           0            1\n",
       "4  Chiefs  0.344538  0.857143      27           0            1"
      ]
     },
     "execution_count": 8,
     "metadata": {},
     "output_type": "execute_result"
    }
   ],
   "source": [
    "df = pd.concat([df, encoded], axis=1)\n",
    "df.head()"
   ]
  },
  {
   "cell_type": "code",
   "execution_count": null,
   "id": "179f371e",
   "metadata": {},
   "outputs": [],
   "source": []
  },
  {
   "cell_type": "markdown",
   "id": "ccced7af",
   "metadata": {},
   "source": [
    "## Create a Model ##\n",
    "\n",
    "We will use a multilinear regression model to predict the Superbowl scores. Multilinear means that we are measuring a linear relationship between the inputs and the output, but there is more than one independent variable (feature). The `LinearRegression` object works the same whether you use it with a single feature or many (phew!).\n",
    "\n",
    "In order to test the accuracy of our model, we will hold back a few of the games from the training model. The `train_test_split` function will separate the inputs X and the output y simultaneously, randomly choosing the samples to hold back for training but making sure to choose the same X rows and y rows."
   ]
  },
  {
   "cell_type": "code",
   "execution_count": 10,
   "id": "07d285ff",
   "metadata": {},
   "outputs": [
    {
     "name": "stdout",
     "output_type": "stream",
     "text": [
      "(34, 4)\n",
      "(34, 1)\n"
     ]
    }
   ],
   "source": [
    "X = df[['Team_49ers', 'Team_Chiefs', 'OppPA', 'OppTO']] # 17 games for each team (34 total)\n",
    "y = df[['Points']]\n",
    "print(X.shape)\n",
    "print(y.shape)"
   ]
  },
  {
   "cell_type": "code",
   "execution_count": 11,
   "id": "42b5ca9d",
   "metadata": {},
   "outputs": [
    {
     "name": "stdout",
     "output_type": "stream",
     "text": [
      "(30, 4)\n",
      "(30, 1)\n",
      "(4, 4)\n",
      "(4, 1)\n"
     ]
    }
   ],
   "source": [
    "X_train, X_test, y_train, y_test = train_test_split(X, y, test_size=0.1)\n",
    "print(X_train.shape)\n",
    "print(y_train.shape)\n",
    "print(X_test.shape)\n",
    "print(y_test.shape)"
   ]
  },
  {
   "cell_type": "code",
   "execution_count": 12,
   "id": "dac84a16",
   "metadata": {},
   "outputs": [],
   "source": [
    "model = LinearRegression()\n",
    "model.fit(X_train, y_train)\n",
    "y_pred = model.predict(X_test)\n",
    "y_pred = np.round(y_pred).astype(np.uint8)"
   ]
  },
  {
   "cell_type": "code",
   "execution_count": 13,
   "id": "17c16ff6",
   "metadata": {},
   "outputs": [
    {
     "data": {
      "text/plain": [
       "array([[24],\n",
       "       [33],\n",
       "       [34],\n",
       "       [22]], dtype=uint8)"
      ]
     },
     "execution_count": 13,
     "metadata": {},
     "output_type": "execute_result"
    }
   ],
   "source": [
    "y_pred # 4 prediction results bc 4 testing values"
   ]
  },
  {
   "cell_type": "code",
   "execution_count": 14,
   "id": "7096c789",
   "metadata": {},
   "outputs": [
    {
     "data": {
      "text/html": [
       "<div>\n",
       "<style scoped>\n",
       "    .dataframe tbody tr th:only-of-type {\n",
       "        vertical-align: middle;\n",
       "    }\n",
       "\n",
       "    .dataframe tbody tr th {\n",
       "        vertical-align: top;\n",
       "    }\n",
       "\n",
       "    .dataframe thead th {\n",
       "        text-align: right;\n",
       "    }\n",
       "</style>\n",
       "<table border=\"1\" class=\"dataframe\">\n",
       "  <thead>\n",
       "    <tr style=\"text-align: right;\">\n",
       "      <th></th>\n",
       "      <th>Points</th>\n",
       "    </tr>\n",
       "  </thead>\n",
       "  <tbody>\n",
       "    <tr>\n",
       "      <th>9</th>\n",
       "      <td>17</td>\n",
       "    </tr>\n",
       "    <tr>\n",
       "      <th>20</th>\n",
       "      <td>35</td>\n",
       "    </tr>\n",
       "    <tr>\n",
       "      <th>32</th>\n",
       "      <td>27</td>\n",
       "    </tr>\n",
       "    <tr>\n",
       "      <th>11</th>\n",
       "      <td>19</td>\n",
       "    </tr>\n",
       "  </tbody>\n",
       "</table>\n",
       "</div>"
      ],
      "text/plain": [
       "    Points\n",
       "9       17\n",
       "20      35\n",
       "32      27\n",
       "11      19"
      ]
     },
     "execution_count": 14,
     "metadata": {},
     "output_type": "execute_result"
    }
   ],
   "source": [
    "y_test # actual values "
   ]
  },
  {
   "cell_type": "code",
   "execution_count": null,
   "id": "feb65a35",
   "metadata": {},
   "outputs": [],
   "source": []
  },
  {
   "cell_type": "markdown",
   "id": "9a937787",
   "metadata": {},
   "source": [
    "## Score the Model ##\n",
    "\n",
    "There are a variety of metrics to score the quality of a regression model. Three common metrics are *Mean Absolute Error*, *Mean Squared Error*, and $R^2$ Error.\n",
    "* Mean Absolute Error (**MAE**): Scoring single model or models with same output scales, don't care about extreme outlier predictions. Score directly connected to output values.\n",
    "* Mean Squared Error (**MSE**): Similar to MAE but want to highlight models with extreme outliers. Range of scores may not correspond to the output range.\n",
    "* $R^2$ Error (**R2**): Standardized score with -$\\infty$ being negative scores being really poor and 1 being perfect score. Score of 0 is equal to just picking the mean y-value for your prediction.\n",
    "\n",
    "We will use MAE so that our score metric represents points from the game.\n",
    "\n",
    "If we are unhappy with the score, we can go back and change the features or parameters used in the model. This sort of evaluate-modify feedback loop is important, but it is also one of the easiest ways to introduce leakage or bias in a way that overfits our model. "
   ]
  },
  {
   "cell_type": "code",
   "execution_count": 15,
   "id": "627a8279",
   "metadata": {},
   "outputs": [
    {
     "name": "stdout",
     "output_type": "stream",
     "text": [
      "4.75\n"
     ]
    }
   ],
   "source": [
    "mae_score = mean_absolute_error(y_test, y_pred)\n",
    "print(mae_score) # "
   ]
  },
  {
   "cell_type": "code",
   "execution_count": null,
   "id": "fd4d4d08",
   "metadata": {},
   "outputs": [],
   "source": []
  },
  {
   "cell_type": "markdown",
   "id": "233a98bf",
   "metadata": {},
   "source": [
    "## Predict the Superbowl Winner ##\n",
    "\n",
    "Now that we are happy with our model, let's make a prediction with the Superbowl teams facing off against each other. These statistics weren't in our original data and at this point, it's probably easiest to just manually create the appropriate arrays following the same order as our original input features in X.\n",
    "\n",
    "By the way, we know the result of the Chiefs-49ers Superbowl. Hopefully our model predicts the Chief's winning 38-35.\n",
    "\n",
    "### 49ers vs Chiefs ###\n",
    "|Team|Opponent Points Against|Opponent Turnovers|\n",
    "|----|-----------------------|------------------|\n",
    "|49ers|294 (Chiefs had good defense|28 (Chief's were turnover prone)|\n",
    "|Chiefs|298 (49ers also had a good defense)|18 (49ers protected the football)|"
   ]
  },
  {
   "cell_type": "code",
   "execution_count": 16,
   "id": "b17ec0dd",
   "metadata": {},
   "outputs": [
    {
     "data": {
      "text/html": [
       "<div>\n",
       "<style scoped>\n",
       "    .dataframe tbody tr th:only-of-type {\n",
       "        vertical-align: middle;\n",
       "    }\n",
       "\n",
       "    .dataframe tbody tr th {\n",
       "        vertical-align: top;\n",
       "    }\n",
       "\n",
       "    .dataframe thead th {\n",
       "        text-align: right;\n",
       "    }\n",
       "</style>\n",
       "<table border=\"1\" class=\"dataframe\">\n",
       "  <thead>\n",
       "    <tr style=\"text-align: right;\">\n",
       "      <th></th>\n",
       "      <th>Team_49ers</th>\n",
       "      <th>Team_Chiefs</th>\n",
       "      <th>OppPA</th>\n",
       "      <th>OppTO</th>\n",
       "    </tr>\n",
       "  </thead>\n",
       "  <tbody>\n",
       "    <tr>\n",
       "      <th>0</th>\n",
       "      <td>1</td>\n",
       "      <td>0</td>\n",
       "      <td>294</td>\n",
       "      <td>28</td>\n",
       "    </tr>\n",
       "    <tr>\n",
       "      <th>1</th>\n",
       "      <td>0</td>\n",
       "      <td>1</td>\n",
       "      <td>298</td>\n",
       "      <td>18</td>\n",
       "    </tr>\n",
       "  </tbody>\n",
       "</table>\n",
       "</div>"
      ],
      "text/plain": [
       "   Team_49ers  Team_Chiefs  OppPA  OppTO\n",
       "0           1            0    294     28\n",
       "1           0            1    298     18"
      ]
     },
     "execution_count": 16,
     "metadata": {},
     "output_type": "execute_result"
    }
   ],
   "source": [
    "# No need for OHE because we created the data manually\n",
    "X_real = pd.DataFrame({'Team_49ers':[1, 0],\n",
    "                  'Team_Chiefs':[0, 1],\n",
    "                  'OppPA':[294, 298],\n",
    "                  'OppTO':[28, 18]})\n",
    "X_real"
   ]
  },
  {
   "cell_type": "code",
   "execution_count": 17,
   "id": "9fa33794",
   "metadata": {},
   "outputs": [
    {
     "data": {
      "text/html": [
       "<div>\n",
       "<style scoped>\n",
       "    .dataframe tbody tr th:only-of-type {\n",
       "        vertical-align: middle;\n",
       "    }\n",
       "\n",
       "    .dataframe tbody tr th {\n",
       "        vertical-align: top;\n",
       "    }\n",
       "\n",
       "    .dataframe thead th {\n",
       "        text-align: right;\n",
       "    }\n",
       "</style>\n",
       "<table border=\"1\" class=\"dataframe\">\n",
       "  <thead>\n",
       "    <tr style=\"text-align: right;\">\n",
       "      <th></th>\n",
       "      <th>Team_49ers</th>\n",
       "      <th>Team_Chiefs</th>\n",
       "      <th>OppPA</th>\n",
       "      <th>OppTO</th>\n",
       "    </tr>\n",
       "  </thead>\n",
       "  <tbody>\n",
       "    <tr>\n",
       "      <th>0</th>\n",
       "      <td>1</td>\n",
       "      <td>0</td>\n",
       "      <td>0.058824</td>\n",
       "      <td>0.571429</td>\n",
       "    </tr>\n",
       "    <tr>\n",
       "      <th>1</th>\n",
       "      <td>0</td>\n",
       "      <td>1</td>\n",
       "      <td>0.075630</td>\n",
       "      <td>0.095238</td>\n",
       "    </tr>\n",
       "  </tbody>\n",
       "</table>\n",
       "</div>"
      ],
      "text/plain": [
       "   Team_49ers  Team_Chiefs     OppPA     OppTO\n",
       "0           1            0  0.058824  0.571429\n",
       "1           0            1  0.075630  0.095238"
      ]
     },
     "execution_count": 17,
     "metadata": {},
     "output_type": "execute_result"
    }
   ],
   "source": [
    "X_real[['OppPA', 'OppTO']] = scaler.transform(X_real[['OppPA', 'OppTO']])\n",
    "X_real"
   ]
  },
  {
   "cell_type": "code",
   "execution_count": 18,
   "id": "ab5541cb",
   "metadata": {},
   "outputs": [
    {
     "name": "stdout",
     "output_type": "stream",
     "text": [
      "2023 SUPERBOWL PREDICITON\n",
      "49ers: [24]\n",
      "Chiefs: [20]\n"
     ]
    }
   ],
   "source": [
    "\n",
    "superbowl_scores = model.predict(X_real)\n",
    "superbowl_scores = np.round(superbowl_scores).astype(np.uint8)\n",
    "print(f\"2023 SUPERBOWL PREDICITON\")\n",
    "print(f\"49ers: {superbowl_scores[0]}\")\n",
    "print(f\"Chiefs: {superbowl_scores[1]}\")"
   ]
  },
  {
   "cell_type": "code",
   "execution_count": null,
   "id": "83da66ac",
   "metadata": {},
   "outputs": [],
   "source": []
  },
  {
   "cell_type": "code",
   "execution_count": null,
   "id": "3b00e9b1",
   "metadata": {},
   "outputs": [],
   "source": []
  }
 ],
 "metadata": {
  "kernelspec": {
   "display_name": ".venv",
   "language": "python",
   "name": "python3"
  },
  "language_info": {
   "codemirror_mode": {
    "name": "ipython",
    "version": 3
   },
   "file_extension": ".py",
   "mimetype": "text/x-python",
   "name": "python",
   "nbconvert_exporter": "python",
   "pygments_lexer": "ipython3",
   "version": "3.11.2"
  }
 },
 "nbformat": 4,
 "nbformat_minor": 5
}
